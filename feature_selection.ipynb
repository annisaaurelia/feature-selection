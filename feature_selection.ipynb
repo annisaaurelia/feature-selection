{
 "cells": [
  {
   "cell_type": "markdown",
   "metadata": {
    "id": "d3traVT4eynk"
   },
   "source": [
    "# Load Library\n"
   ]
  },
  {
   "cell_type": "code",
   "execution_count": null,
   "metadata": {
    "colab": {
     "base_uri": "https://localhost:8080/"
    },
    "id": "de5BVsvSehM5",
    "outputId": "4dd37462-b5f9-4499-d153-aa369592031c"
   },
   "outputs": [
    {
     "name": "stdout",
     "output_type": "stream",
     "text": [
      "Collecting feature_engine\n",
      "\u001b[?25l  Downloading https://files.pythonhosted.org/packages/57/6d/0c7594c89bf07a7c447b1a251d4e04b07104d4a9332de71e1de42b78b838/feature_engine-1.0.2-py2.py3-none-any.whl (152kB)\n",
      "\u001b[K     |████████████████████████████████| 153kB 6.7MB/s \n",
      "\u001b[?25hRequirement already satisfied: pandas>=1.0.3 in /usr/local/lib/python3.7/dist-packages (from feature_engine) (1.1.5)\n",
      "Requirement already satisfied: scikit-learn>=0.22.2 in /usr/local/lib/python3.7/dist-packages (from feature_engine) (0.22.2.post1)\n",
      "Collecting statsmodels>=0.11.1\n",
      "\u001b[?25l  Downloading https://files.pythonhosted.org/packages/da/69/8eef30a6237c54f3c0b524140e2975f4b1eea3489b45eb3339574fc8acee/statsmodels-0.12.2-cp37-cp37m-manylinux1_x86_64.whl (9.5MB)\n",
      "\u001b[K     |████████████████████████████████| 9.5MB 8.2MB/s \n",
      "\u001b[?25hRequirement already satisfied: scipy>=1.4.1 in /usr/local/lib/python3.7/dist-packages (from feature_engine) (1.4.1)\n",
      "Requirement already satisfied: numpy>=1.18.2 in /usr/local/lib/python3.7/dist-packages (from feature_engine) (1.19.5)\n",
      "Requirement already satisfied: python-dateutil>=2.7.3 in /usr/local/lib/python3.7/dist-packages (from pandas>=1.0.3->feature_engine) (2.8.1)\n",
      "Requirement already satisfied: pytz>=2017.2 in /usr/local/lib/python3.7/dist-packages (from pandas>=1.0.3->feature_engine) (2018.9)\n",
      "Requirement already satisfied: joblib>=0.11 in /usr/local/lib/python3.7/dist-packages (from scikit-learn>=0.22.2->feature_engine) (1.0.1)\n",
      "Requirement already satisfied: patsy>=0.5 in /usr/local/lib/python3.7/dist-packages (from statsmodels>=0.11.1->feature_engine) (0.5.1)\n",
      "Requirement already satisfied: six>=1.5 in /usr/local/lib/python3.7/dist-packages (from python-dateutil>=2.7.3->pandas>=1.0.3->feature_engine) (1.15.0)\n",
      "Installing collected packages: statsmodels, feature-engine\n",
      "  Found existing installation: statsmodels 0.10.2\n",
      "    Uninstalling statsmodels-0.10.2:\n",
      "      Successfully uninstalled statsmodels-0.10.2\n",
      "Successfully installed feature-engine-1.0.2 statsmodels-0.12.2\n",
      "Collecting category_encoders\n",
      "\u001b[?25l  Downloading https://files.pythonhosted.org/packages/44/57/fcef41c248701ee62e8325026b90c432adea35555cbc870aff9cfba23727/category_encoders-2.2.2-py2.py3-none-any.whl (80kB)\n",
      "\u001b[K     |████████████████████████████████| 81kB 5.3MB/s \n",
      "\u001b[?25hRequirement already satisfied: scikit-learn>=0.20.0 in /usr/local/lib/python3.7/dist-packages (from category_encoders) (0.22.2.post1)\n",
      "Requirement already satisfied: scipy>=1.0.0 in /usr/local/lib/python3.7/dist-packages (from category_encoders) (1.4.1)\n",
      "Requirement already satisfied: patsy>=0.5.1 in /usr/local/lib/python3.7/dist-packages (from category_encoders) (0.5.1)\n",
      "Requirement already satisfied: numpy>=1.14.0 in /usr/local/lib/python3.7/dist-packages (from category_encoders) (1.19.5)\n",
      "Requirement already satisfied: statsmodels>=0.9.0 in /usr/local/lib/python3.7/dist-packages (from category_encoders) (0.12.2)\n",
      "Requirement already satisfied: pandas>=0.21.1 in /usr/local/lib/python3.7/dist-packages (from category_encoders) (1.1.5)\n",
      "Requirement already satisfied: joblib>=0.11 in /usr/local/lib/python3.7/dist-packages (from scikit-learn>=0.20.0->category_encoders) (1.0.1)\n",
      "Requirement already satisfied: six in /usr/local/lib/python3.7/dist-packages (from patsy>=0.5.1->category_encoders) (1.15.0)\n",
      "Requirement already satisfied: python-dateutil>=2.7.3 in /usr/local/lib/python3.7/dist-packages (from pandas>=0.21.1->category_encoders) (2.8.1)\n",
      "Requirement already satisfied: pytz>=2017.2 in /usr/local/lib/python3.7/dist-packages (from pandas>=0.21.1->category_encoders) (2018.9)\n",
      "Installing collected packages: category-encoders\n",
      "Successfully installed category-encoders-2.2.2\n"
     ]
    }
   ],
   "source": [
    "import pandas as pd\n",
    "import numpy as np\n",
    "import matplotlib.pyplot as plt\n",
    "import scipy.stats as stats\n",
    "\n",
    "# to split the datasets\n",
    "from sklearn.model_selection import train_test_split, cross_validate\n",
    "from sklearn.pipeline import Pipeline\n",
    "\n",
    "from sklearn.ensemble import RandomForestClassifier\n",
    "\n",
    "!pip install feature_engine\n",
    "!pip install category_encoders"
   ]
  },
  {
   "cell_type": "markdown",
   "metadata": {
    "id": "LV9EHudWe4eU"
   },
   "source": [
    "# Filter Methods"
   ]
  },
  {
   "cell_type": "code",
   "execution_count": null,
   "metadata": {
    "colab": {
     "base_uri": "https://localhost:8080/"
    },
    "id": "3uyi2x1we8rM",
    "outputId": "b02ad110-9022-473c-9c5a-357634b2e047"
   },
   "outputs": [
    {
     "data": {
      "text/plain": [
       "(50000, 301)"
      ]
     },
     "execution_count": 4,
     "metadata": {
      "tags": []
     },
     "output_type": "execute_result"
    }
   ],
   "source": [
    "# load dataset\n",
    "\n",
    "# (feel free to write some code to explore the dataset and become\n",
    "# familiar with it ahead of this demo)\n",
    "\n",
    "data = pd.read_csv('datasets/dataset_1.csv')\n",
    "data.shape"
   ]
  },
  {
   "cell_type": "markdown",
   "metadata": {
    "id": "nT5FH7Dne_27"
   },
   "source": [
    "## Basic Filter"
   ]
  },
  {
   "cell_type": "code",
   "execution_count": null,
   "metadata": {
    "colab": {
     "base_uri": "https://localhost:8080/"
    },
    "id": "o1khb4ujgb-U",
    "outputId": "40fbe877-668a-4a9e-c582-890670b1c638"
   },
   "outputs": [
    {
     "data": {
      "text/plain": [
       "((35000, 266), (15000, 266))"
      ]
     },
     "execution_count": 12,
     "metadata": {
      "tags": []
     },
     "output_type": "execute_result"
    }
   ],
   "source": [
    "from feature_engine.selection import DropConstantFeatures, DropDuplicateFeatures\n",
    "\n",
    "# CONSTANT FEATURES\n",
    "# separate dataset into train and test\n",
    "\n",
    "X_train, X_test, y_train, y_test = train_test_split(\n",
    "    data.drop(labels=['target'], axis=1), # drop the target\n",
    "    data['target'], # just the target\n",
    "    test_size=0.3,\n",
    "    random_state=0)\n",
    "\n",
    "X_train.shape, X_test.shape\n",
    "\n",
    "sel = DropConstantFeatures(tol=1, variables=None, missing_values='raise')\n",
    "\n",
    "sel.fit(X_train)\n",
    "\n",
    "# list of constant features\n",
    "sel.features_to_drop_\n",
    "\n",
    "# number of constant features\n",
    "len(sel.features_to_drop_)\n",
    "\n",
    "# let's explore 1 of the constant feature values\n",
    "X_train[sel.features_to_drop_[0]].unique()\n",
    "\n",
    "# remove constant features from the data\n",
    "X_train = sel.transform(X_train)\n",
    "X_test = sel.transform(X_test)\n",
    "\n",
    "X_train.shape, X_test.shape"
   ]
  },
  {
   "cell_type": "code",
   "execution_count": null,
   "metadata": {
    "colab": {
     "base_uri": "https://localhost:8080/"
    },
    "id": "GkNw9XdahLtF",
    "outputId": "b28ac867-efa6-494d-bf8a-577c709a6608"
   },
   "outputs": [
    {
     "data": {
      "text/plain": [
       "((35000, 158), (15000, 158))"
      ]
     },
     "execution_count": 15,
     "metadata": {
      "tags": []
     },
     "output_type": "execute_result"
    }
   ],
   "source": [
    "# QUASI CONSTANT FEATURE\n",
    "\n",
    "from feature_engine.selection import DropConstantFeatures\n",
    "\n",
    "# CONSTANT FEATURES\n",
    "# separate dataset into train and test\n",
    "\n",
    "X_train, X_test, y_train, y_test = train_test_split(\n",
    "    data.drop(labels=['target'], axis=1), # drop the target\n",
    "    data['target'], # just the target\n",
    "    test_size=0.3,\n",
    "    random_state=0)\n",
    "\n",
    "X_train.shape, X_test.shape\n",
    "\n",
    "sel = DropConstantFeatures(tol=0.998, variables=None, missing_values='raise')\n",
    "\n",
    "sel.fit(X_train)\n",
    "\n",
    "# list of constant features\n",
    "sel.features_to_drop_\n",
    "\n",
    "# number of constant features\n",
    "len(sel.features_to_drop_)\n",
    "\n",
    "# let's explore 1 of the constant feature values\n",
    "X_train[sel.features_to_drop_[0]].unique()\n",
    "\n",
    "# remove constant features from the data\n",
    "X_train = sel.transform(X_train)\n",
    "X_test = sel.transform(X_test)\n",
    "\n",
    "X_train.shape, X_test.shape"
   ]
  },
  {
   "cell_type": "code",
   "execution_count": null,
   "metadata": {
    "colab": {
     "base_uri": "https://localhost:8080/"
    },
    "id": "nQ3raNu1kzu8",
    "outputId": "a2b5bafd-de6e-48f2-da13-03f1c98a8b31"
   },
   "outputs": [
    {
     "data": {
      "text/plain": [
       "((35000, 152), (15000, 152))"
      ]
     },
     "execution_count": 17,
     "metadata": {
      "tags": []
     },
     "output_type": "execute_result"
    }
   ],
   "source": [
    "# REMOVE DUPLICATED FEATURES\n",
    "# set up the selector\n",
    "sel = DropDuplicateFeatures(variables=None, missing_values='raise')\n",
    "\n",
    "# find the duplicate features, this might take a while\n",
    "sel.fit(X_train)\n",
    "\n",
    "# these are the pairs of duplicated features\n",
    "# each set are duplicates\n",
    "sel.duplicated_feature_sets_\n",
    "\n",
    "# these are the features that will be dropped\n",
    "# 1 from each of the pairs above\n",
    "sel.features_to_drop_\n",
    "\n",
    "# let's explore our list of duplicated features\n",
    "len(sel.features_to_drop_)\n",
    "\n",
    "# remove the duplicated features\n",
    "X_train = sel.transform(X_train)\n",
    "X_test = sel.transform(X_test)\n",
    "\n",
    "X_train.shape, X_test.shape"
   ]
  },
  {
   "cell_type": "markdown",
   "metadata": {
    "id": "ZITUA5H8fDiO"
   },
   "source": [
    "## Correlation"
   ]
  },
  {
   "cell_type": "markdown",
   "metadata": {
    "id": "FCl669bSl7jb"
   },
   "source": [
    "The DropCorrelatedFeatures class from Feature-engine does a similar job to the brute force approach that we described earlier.\n",
    "\n",
    "The SmartCorrelationSelection allows us to select a feature from each correlated group based on model performance, number of missing values, cardinality or variance."
   ]
  },
  {
   "cell_type": "code",
   "execution_count": null,
   "metadata": {
    "colab": {
     "base_uri": "https://localhost:8080/"
    },
    "id": "C_EGNj7cl2iw",
    "outputId": "1a042565-21e4-4769-eb4f-d3b00f1f4ad6"
   },
   "outputs": [
    {
     "data": {
      "text/plain": [
       "(50000, 109)"
      ]
     },
     "execution_count": 22,
     "metadata": {
      "tags": []
     },
     "output_type": "execute_result"
    }
   ],
   "source": [
    "from feature_engine.selection import DropCorrelatedFeatures, SmartCorrelatedSelection\n",
    "# load dataset\n",
    "\n",
    "# (feel free to write some code to explore the dataset and become\n",
    "# familiar with it ahead of this demo)\n",
    "\n",
    "data = pd.read_csv('datasets/dataset_2.csv')\n",
    "data.shape"
   ]
  },
  {
   "cell_type": "code",
   "execution_count": null,
   "metadata": {
    "colab": {
     "base_uri": "https://localhost:8080/"
    },
    "id": "MVTxzEykmEmY",
    "outputId": "4bcd342d-7c17-4ef9-87f7-bfeaa2e81240"
   },
   "outputs": [
    {
     "data": {
      "text/plain": [
       "((35000, 78), (15000, 78))"
      ]
     },
     "execution_count": 20,
     "metadata": {
      "tags": []
     },
     "output_type": "execute_result"
    }
   ],
   "source": [
    "# Brute force approach\n",
    "# set up the selector\n",
    "\n",
    "sel = DropCorrelatedFeatures(\n",
    "    threshold=0.8,\n",
    "    method='pearson',\n",
    "    missing_values='ignore'\n",
    ")\n",
    "\n",
    "\n",
    "# find correlated features\n",
    "sel.fit(X_train)\n",
    "\n",
    "# each set contains a group of correlated features\n",
    "sel.correlated_feature_sets_\n",
    "\n",
    "# drop correlated features\n",
    "X_train = sel.transform(X_train)\n",
    "X_test = sel.transform(X_test)\n",
    "\n",
    "X_train.shape, X_test.shape"
   ]
  },
  {
   "cell_type": "code",
   "execution_count": null,
   "metadata": {
    "colab": {
     "base_uri": "https://localhost:8080/"
    },
    "id": "2dJoEnp0mQ-a",
    "outputId": "122a582a-f841-40e2-92a9-3b36d958e5d3"
   },
   "outputs": [
    {
     "data": {
      "text/plain": [
       "[{'var_3', 'var_80'},\n",
       " {'var_28', 'var_5', 'var_75'},\n",
       " {'var_11', 'var_33'},\n",
       " {'var_13', 'var_17'},\n",
       " {'var_15', 'var_57'},\n",
       " {'var_18', 'var_43'},\n",
       " {'var_19', 'var_29'},\n",
       " {'var_21', 'var_70', 'var_88'},\n",
       " {'var_22', 'var_24', 'var_32', 'var_39', 'var_42', 'var_76'},\n",
       " {'var_102', 'var_23'},\n",
       " {'var_26', 'var_59'},\n",
       " {'var_108', 'var_30'},\n",
       " {'var_35', 'var_87'},\n",
       " {'var_101', 'var_105', 'var_40', 'var_74', 'var_85'},\n",
       " {'var_46', 'var_94'},\n",
       " {'var_50', 'var_72'},\n",
       " {'var_52', 'var_66'},\n",
       " {'var_109', 'var_56'},\n",
       " {'var_104', 'var_60'},\n",
       " {'var_63', 'var_64', 'var_84', 'var_97'},\n",
       " {'var_106', 'var_77'},\n",
       " {'var_90', 'var_95'},\n",
       " {'var_100', 'var_98'}]"
      ]
     },
     "execution_count": 23,
     "metadata": {
      "tags": []
     },
     "output_type": "execute_result"
    }
   ],
   "source": [
    "# Smart correlation selection by model performance\n",
    "\n",
    "# separate train and test sets\n",
    "X_train, X_test, y_train, y_test = train_test_split(\n",
    "    data.drop(labels=['target'], axis=1),\n",
    "    data['target'],\n",
    "    test_size=0.3,\n",
    "    random_state=0)\n",
    "\n",
    "# random forest\n",
    "rf = RandomForestClassifier(\n",
    "    n_estimators=10,\n",
    "    random_state=20,\n",
    "    n_jobs=4,\n",
    ")\n",
    "\n",
    "# correlation selector\n",
    "sel = SmartCorrelatedSelection(\n",
    "    variables=None, # if none, selector examines all numerical variables\n",
    "    method=\"pearson\",\n",
    "    threshold=0.8,\n",
    "    missing_values=\"raise\",\n",
    "    selection_method=\"model_performance\", # selection method can also by \"variance\"\n",
    "    estimator=rf,\n",
    "    scoring=\"roc_auc\",\n",
    "    cv=3,\n",
    ")\n",
    "\n",
    "# this may take a while, because we are training\n",
    "# a random forest per correlation group\n",
    "sel.fit(X_train, y_train)\n",
    "\n",
    "# groups of correlated features\n",
    "sel.correlated_feature_sets_"
   ]
  },
  {
   "cell_type": "code",
   "execution_count": null,
   "metadata": {
    "colab": {
     "base_uri": "https://localhost:8080/"
    },
    "id": "Yk-AlJIXmjOJ",
    "outputId": "5a02e1c4-903e-45e7-ee53-a00869fc5a81"
   },
   "outputs": [
    {
     "name": "stdout",
     "output_type": "stream",
     "text": [
      "var_75 0.5013582851822869\n",
      "var_5 0.4997774987558589\n",
      "var_28 0.5066241880281172\n"
     ]
    }
   ],
   "source": [
    "# lets examine the performace of a random forest based on\n",
    "# each feature from the second group, to understand\n",
    "# what the transformer is doing\n",
    "\n",
    "# select second group of correlated features\n",
    "group = sel.correlated_feature_sets_[1]\n",
    "\n",
    "# build random forest with cross validation for\n",
    "# each feature\n",
    "\n",
    "for f in group:\n",
    "    \n",
    "    model = cross_validate(\n",
    "        rf,\n",
    "        X_train[f].to_frame(),\n",
    "        y_train,\n",
    "        cv=3,\n",
    "        return_estimator=False,\n",
    "        scoring='roc_auc',\n",
    "    )\n",
    "\n",
    "    print(f, model[\"test_score\"].mean())"
   ]
  },
  {
   "cell_type": "markdown",
   "metadata": {
    "id": "X2cT-KtFfFP4"
   },
   "source": [
    "## Filter Statistics"
   ]
  },
  {
   "cell_type": "markdown",
   "metadata": {
    "id": "qPNKwOMxn36k"
   },
   "source": [
    "### Mutual Information"
   ]
  },
  {
   "cell_type": "code",
   "execution_count": null,
   "metadata": {
    "colab": {
     "base_uri": "https://localhost:8080/",
     "height": 398
    },
    "id": "xyxURgYhn6US",
    "outputId": "db0b62e2-7b52-4a27-d25f-818bd05c68a9"
   },
   "outputs": [
    {
     "data": {
      "text/plain": [
       "Text(0, 0.5, 'Mutual Information')"
      ]
     },
     "execution_count": 4,
     "metadata": {
      "tags": []
     },
     "output_type": "execute_result"
    },
    {
     "data": {
      "image/png": "[encoded data removed]",
      "text/plain": [
       "<Figure size 1440x432 with 1 Axes>"
      ]
     },
     "metadata": {
      "needs_background": "light",
      "tags": []
     },
     "output_type": "display_data"
    }
   ],
   "source": [
    "# to obtain the mutual information values\n",
    "from sklearn.feature_selection import mutual_info_classif, mutual_info_regression\n",
    "\n",
    "# to select the features\n",
    "from sklearn.feature_selection import SelectKBest, SelectPercentile\n",
    "\n",
    "# CLASSIFICATION\n",
    "# load dataset\n",
    "\n",
    "# (feel free to write some code to explore the dataset and become\n",
    "# familiar with it ahead of this demo)\n",
    "\n",
    "data = pd.read_csv('datasets/dataset_2.csv')\n",
    "data.shape\n",
    "\n",
    "# separate train and test sets\n",
    "X_train, X_test, y_train, y_test = train_test_split(\n",
    "    data.drop(labels=['target'], axis=1),\n",
    "    data['target'],\n",
    "    test_size=0.3,\n",
    "    random_state=0)\n",
    "\n",
    "X_train.shape, X_test.shape\n",
    "\n",
    "# calculate the mutual information between the variables and the target\n",
    "\n",
    "# the smaller the value of the mi, the less information we can infer from\n",
    "# the feature about the target\n",
    "\n",
    "mi = mutual_info_classif(X_train, y_train)\n",
    "mi\n",
    "\n",
    "# 1) let's capture the above array in a pandas series\n",
    "# 2)add the variable names in the index\n",
    "# 3) sort the features based on their mutual information value\n",
    "# 4) and make a var plot\n",
    "\n",
    "mi = pd.Series(mi)\n",
    "mi.index = X_train.columns\n",
    "mi.sort_values(ascending=False).plot.bar(figsize=(20, 6))\n",
    "plt.ylabel('Mutual Information')"
   ]
  },
  {
   "cell_type": "code",
   "execution_count": null,
   "metadata": {
    "id": "T7QDo8GImwvo"
   },
   "outputs": [],
   "source": [
    "# here we will select the top 10 features\n",
    "# based on their mutual information value\n",
    "\n",
    "# select features\n",
    "sel_ = SelectKBest(mutual_info_classif, k=10).fit(X_train, y_train)\n",
    "\n",
    "# display features\n",
    "X_train.columns[sel_.get_support()]\n",
    "\n",
    "# to remove the rest of the features:\n",
    "X_train = sel_.transform(X_train)\n",
    "X_test = sel_.transform(X_test)"
   ]
  },
  {
   "cell_type": "code",
   "execution_count": null,
   "metadata": {
    "colab": {
     "base_uri": "https://localhost:8080/"
    },
    "id": "gl6MM5u0m69H",
    "outputId": "94152bf0-0be9-4b6c-a633-95ecb3b29c78"
   },
   "outputs": [
    {
     "data": {
      "text/plain": [
       "(1460, 38)"
      ]
     },
     "execution_count": 6,
     "metadata": {
      "tags": []
     },
     "output_type": "execute_result"
    }
   ],
   "source": [
    "# REGRESSION\n",
    "# to obtain the mutual information values\n",
    "from sklearn.feature_selection import mutual_info_classif, mutual_info_regression\n",
    "\n",
    "# to select the features\n",
    "from sklearn.feature_selection import SelectKBest, SelectPercentile\n",
    "# In practice, feature selection should be done after data pre-processing,\n",
    "# so ideally, all the categorical variables are encoded into numbers,\n",
    "# and then you can assess how deterministic they are of the target\n",
    "\n",
    "# here for simplicity I will use only numerical variables\n",
    "# select numerical columns:\n",
    "\n",
    "data = pd.read_csv('datasets/houseprice.csv')\n",
    "data.shape\n",
    "\n",
    "numerics = ['int16', 'int32', 'int64', 'float16', 'float32', 'float64']\n",
    "numerical_vars = list(data.select_dtypes(include=numerics).columns)\n",
    "data = data[numerical_vars]\n",
    "data.shape\n",
    "\n",
    "# separate train and test sets\n",
    "X_train, X_test, y_train, y_test = train_test_split(\n",
    "    data.drop(labels=['SalePrice'], axis=1),\n",
    "    data['SalePrice'],\n",
    "    test_size=0.3,\n",
    "    random_state=0)\n",
    "\n",
    "X_train.shape, X_test.shape\n",
    "\n",
    "## fill missing values\n",
    "\n",
    "X_train = X_train.fillna(0)\n",
    "X_test = X_test.fillna(0)\n",
    "\n",
    "data.shape"
   ]
  },
  {
   "cell_type": "code",
   "execution_count": null,
   "metadata": {
    "colab": {
     "base_uri": "https://localhost:8080/",
     "height": 538
    },
    "id": "PF6kF4LlnVKn",
    "outputId": "746d2079-7e1f-4e7e-a00b-743491851fa8"
   },
   "outputs": [
    {
     "data": {
      "text/plain": [
       "array([[7.000e+00, 1.057e+03, 2.034e+03, 2.000e+00],\n",
       "       [6.000e+00, 1.291e+03, 1.291e+03, 2.000e+00],\n",
       "       [5.000e+00, 8.580e+02, 8.580e+02, 0.000e+00],\n",
       "       ...,\n",
       "       [6.000e+00, 0.000e+00, 1.902e+03, 2.000e+00],\n",
       "       [7.000e+00, 1.374e+03, 1.557e+03, 2.000e+00],\n",
       "       [7.000e+00, 1.195e+03, 1.839e+03, 2.000e+00]])"
      ]
     },
     "execution_count": 7,
     "metadata": {
      "tags": []
     },
     "output_type": "execute_result"
    },
    {
     "data": {
      "image/png": "[encoded data removed]",
      "text/plain": [
       "<Figure size 1440x432 with 1 Axes>"
      ]
     },
     "metadata": {
      "needs_background": "light",
      "tags": []
     },
     "output_type": "display_data"
    }
   ],
   "source": [
    "# determine the mutual information\n",
    "mi = mutual_info_regression(X_train, y_train)\n",
    "\n",
    "# and make a bar  plot\n",
    "mi = pd.Series(mi)\n",
    "mi.index = X_train.columns\n",
    "mi.sort_values(ascending=False).plot.bar(figsize=(20,6))\n",
    "plt.ylabel('Mutual Information')\n",
    "\n",
    "# Select the features in the top percentile\n",
    "sel_ = SelectPercentile(mutual_info_regression, percentile=10).fit(X_train, y_train)\n",
    "\n",
    "# display the features\n",
    "X_train.columns[sel_.get_support()]\n",
    "\n",
    "# to remove the rest of the features:\n",
    "\n",
    "X_train = sel_.transform(X_train)\n",
    "X_test = sel_.transform(X_test)\n",
    "\n",
    "X_train"
   ]
  },
  {
   "cell_type": "markdown",
   "metadata": {
    "id": "nOmXQTfnpRzZ"
   },
   "source": [
    "### Chi-square (Fisher-Score)"
   ]
  },
  {
   "cell_type": "code",
   "execution_count": null,
   "metadata": {
    "colab": {
     "base_uri": "https://localhost:8080/"
    },
    "id": "bpfGOCwIpU9b",
    "outputId": "6e74a4cf-e5ca-423b-ed0a-181089ce326e"
   },
   "outputs": [
    {
     "data": {
      "text/plain": [
       "((916, 3), (393, 3))"
      ]
     },
     "execution_count": 11,
     "metadata": {
      "tags": []
     },
     "output_type": "execute_result"
    }
   ],
   "source": [
    "# to determine the chi2 value\n",
    "from sklearn.feature_selection import chi2\n",
    "\n",
    "# to select the features\n",
    "from sklearn.feature_selection import SelectKBest\n",
    "\n",
    "data = pd.read_csv('datasets/titanic.csv')\n",
    "data.shape\n",
    "\n",
    "# the categorical variables in the titanic are pclass, sex and embarked\n",
    "\n",
    "# first I will encode the labels of the categories into numbers\n",
    "\n",
    "# for Sex / Gender\n",
    "data['sex'] = np.where(data['sex'] == 'male', 1, 0)\n",
    "\n",
    "# for Embarked\n",
    "ordinal_label = {k: i for i, k in enumerate(data['embarked'].unique(), 0)}\n",
    "data['embarked'] = data['embarked'].map(ordinal_label)\n",
    "\n",
    "# pclass is already ordinal\n",
    "\n",
    "# separate train and test sets\n",
    "X_train, X_test, y_train, y_test = train_test_split(\n",
    "    data[['pclass', 'sex', 'embarked']],\n",
    "    data['survived'],\n",
    "    test_size=0.3,\n",
    "    random_state=0)\n",
    "\n",
    "X_train.shape, X_test.shape"
   ]
  },
  {
   "cell_type": "code",
   "execution_count": null,
   "metadata": {
    "id": "uCsa6oztnRdV"
   },
   "outputs": [],
   "source": [
    "# calculate the chi2 p_value between each of the variables\n",
    "# and the target\n",
    "\n",
    "# chi2 returns 2 arrays, one contains the F-Scores which are then\n",
    "# evaluated against the chi2 distribution to obtain the pvalue.\n",
    "# The pvalues are in the second array\n",
    "\n",
    "f_score = chi2(X_train.fillna(0), y_train)\n",
    "\n",
    "# the 2 arrays of values\n",
    "f_score\n",
    "\n",
    "# 1) let's capture the p_values (in the second array, remember python indexes at 0) in a pandas Series\n",
    "# 2) add the variable names in the index\n",
    "# 3) order the variables based on their fscore\n",
    "\n",
    "pvalues = pd.Series(f_score[1])\n",
    "pvalues.index = X_train.columns\n",
    "pvalues.sort_values(ascending=True)\n",
    "\n",
    "sel_ = SelectKBest(chi2, k=1).fit(X_train, y_train)\n",
    "\n",
    "# display features\n",
    "X_train.columns[sel_.get_support()]\n",
    "\n",
    "# to remove the rest of the features:\n",
    "\n",
    "X_train = sel_.transform(X_train)\n",
    "X_test = sel_.transform(X_test)"
   ]
  },
  {
   "cell_type": "markdown",
   "metadata": {
    "id": "X5YVf9kgqab-"
   },
   "source": [
    "### ANOVA (Univariate)"
   ]
  },
  {
   "cell_type": "code",
   "execution_count": null,
   "metadata": {
    "colab": {
     "base_uri": "https://localhost:8080/"
    },
    "id": "s8-EsbgyqyfK",
    "outputId": "b7f00169-4d92-4bb4-cb32-6d6ae858d1fb"
   },
   "outputs": [
    {
     "data": {
      "text/plain": [
       "(1460, 38)"
      ]
     },
     "execution_count": 14,
     "metadata": {
      "tags": []
     },
     "output_type": "execute_result"
    }
   ],
   "source": [
    "# to determine the p-values with anova\n",
    "from sklearn.feature_selection import f_classif, f_regression\n",
    "\n",
    "# to select features\n",
    "from sklearn.feature_selection import SelectKBest, SelectPercentile\n",
    "\n",
    "# In practice, feature selection should be done after data pre-processing,\n",
    "# so ideally, all the categorical variables are encoded into numbers,\n",
    "# and then you can assess how deterministic they are of the target\n",
    "\n",
    "# here for simplicity I will use only numerical variables\n",
    "# select numerical columns:\n",
    "\n",
    "data = pd.read_csv('datasets/houseprice.csv')\n",
    "data.shape\n",
    "\n",
    "numerics = ['int16', 'int32', 'int64', 'float16', 'float32', 'float64']\n",
    "numerical_vars = list(data.select_dtypes(include=numerics).columns)\n",
    "data = data[numerical_vars]\n",
    "data.shape\n",
    "\n",
    "# separate train and test sets\n",
    "X_train, X_test, y_train, y_test = train_test_split(\n",
    "    data.drop(labels=['SalePrice'], axis=1),\n",
    "    data['SalePrice'],\n",
    "    test_size=0.3,\n",
    "    random_state=0)\n",
    "\n",
    "X_train.shape, X_test.shape\n",
    "\n",
    "## fill missing values\n",
    "\n",
    "X_train = X_train.fillna(0)\n",
    "X_test = X_test.fillna(0)\n",
    "\n",
    "data.shape"
   ]
  },
  {
   "cell_type": "code",
   "execution_count": null,
   "metadata": {
    "colab": {
     "base_uri": "https://localhost:8080/",
     "height": 442
    },
    "id": "6pCaiPNIq65d",
    "outputId": "4fadbe50-5c10-464a-ff98-e2833382a0a5"
   },
   "outputs": [
    {
     "data": {
      "text/plain": [
       "(1022, 4)"
      ]
     },
     "execution_count": 15,
     "metadata": {
      "tags": []
     },
     "output_type": "execute_result"
    },
    {
     "data": {
      "image/png": "[encoded data removed]",
      "text/plain": [
       "<Figure size 1440x432 with 1 Axes>"
      ]
     },
     "metadata": {
      "needs_background": "light",
      "tags": []
     },
     "output_type": "display_data"
    }
   ],
   "source": [
    "# univariate anova\n",
    "univariate = f_regression(X_train.fillna(0), y_train)\n",
    "\n",
    "# plot values\n",
    "univariate = pd.Series(univariate[1])\n",
    "univariate.index = X_train.columns\n",
    "univariate.sort_values(ascending=False).plot.bar(figsize=(20,6))\n",
    "\n",
    "# select features in top 10th percentile\n",
    "sel_ = SelectPercentile(f_regression,\n",
    "                        percentile=10).fit(X_train.fillna(0), y_train)\n",
    "\n",
    "# display selected feature names\n",
    "X_train.columns[sel_.get_support()]\n",
    "\n",
    "# select features / discard unwanted features\n",
    "\n",
    "X_train = sel_.transform(X_train.fillna(0))\n",
    "X_train.shape"
   ]
  },
  {
   "cell_type": "markdown",
   "metadata": {
    "id": "YEtXyCqNsIhi"
   },
   "source": [
    "### Univariate Performance"
   ]
  },
  {
   "cell_type": "markdown",
   "metadata": {
    "id": "5tBdV-5jsMWx"
   },
   "source": [
    "This procedure works as follows:\n",
    "\n",
    "* Train a ML model per every single feature\n",
    "* Determine the performance of the models\n",
    "* Select features if model performance is above a certain threshold"
   ]
  },
  {
   "cell_type": "code",
   "execution_count": null,
   "metadata": {
    "colab": {
     "base_uri": "https://localhost:8080/"
    },
    "id": "CvtZqYsEsHnP",
    "outputId": "864ab697-19ab-4c32-f577-44c7e9c71b7c"
   },
   "outputs": [
    {
     "data": {
      "text/plain": [
       "SelectBySingleFeaturePerformance(cv=3,\n",
       "                                 estimator=RandomForestClassifier(bootstrap=True,\n",
       "                                                                  ccp_alpha=0.0,\n",
       "                                                                  class_weight=None,\n",
       "                                                                  criterion='gini',\n",
       "                                                                  max_depth=None,\n",
       "                                                                  max_features='auto',\n",
       "                                                                  max_leaf_nodes=None,\n",
       "                                                                  max_samples=None,\n",
       "                                                                  min_impurity_decrease=0.0,\n",
       "                                                                  min_impurity_split=None,\n",
       "                                                                  min_samples_leaf=1,\n",
       "                                                                  min_samples_split=2,\n",
       "                                                                  min_weight_fraction_leaf=0.0,\n",
       "                                                                  n_estimators=10,\n",
       "                                                                  n_jobs=4,...\n",
       "                                                                  random_state=1,\n",
       "                                                                  verbose=0,\n",
       "                                                                  warm_start=False),\n",
       "                                 scoring='roc_auc', threshold=0.5,\n",
       "                                 variables=['var_1', 'var_2', 'var_3', 'var_4',\n",
       "                                            'var_5', 'var_6', 'var_7', 'var_8',\n",
       "                                            'var_9', 'var_10', 'var_11',\n",
       "                                            'var_12', 'var_13', 'var_14',\n",
       "                                            'var_15', 'var_16', 'var_17',\n",
       "                                            'var_18', 'var_19', 'var_20',\n",
       "                                            'var_21', 'var_22', 'var_23',\n",
       "                                            'var_24', 'var_25', 'var_26',\n",
       "                                            'var_27', 'var_28', 'var_29',\n",
       "                                            'var_30', ...])"
      ]
     },
     "execution_count": 18,
     "metadata": {
      "tags": []
     },
     "output_type": "execute_result"
    }
   ],
   "source": [
    "from sklearn.ensemble import RandomForestClassifier, RandomForestRegressor\n",
    "from sklearn.metrics import roc_auc_score, mean_squared_error\n",
    "\n",
    "from feature_engine.selection import SelectBySingleFeaturePerformance\n",
    "\n",
    "data = pd.read_csv('datasets/dataset_2.csv')\n",
    "data.shape\n",
    "\n",
    "# separate train and test sets\n",
    "X_train, X_test, y_train, y_test = train_test_split(\n",
    "    data.drop(labels=['target'], axis=1),\n",
    "    data['target'],\n",
    "    test_size=0.3,\n",
    "    random_state=0)\n",
    "\n",
    "X_train.shape, X_test.shape\n",
    "\n",
    "# set up a machine learning model\n",
    "rf = RandomForestClassifier(\n",
    "    n_estimators=10, random_state=1, n_jobs=4)\n",
    "\n",
    "# set up the selector\n",
    "sel = SelectBySingleFeaturePerformance(\n",
    "    variables=None,\n",
    "    estimator=rf,\n",
    "    scoring=\"roc_auc\",\n",
    "    cv=3,\n",
    "    threshold=0.5)\n",
    "\n",
    "# find predictive features\n",
    "sel.fit(X_train, y_train)"
   ]
  },
  {
   "cell_type": "code",
   "execution_count": null,
   "metadata": {
    "colab": {
     "base_uri": "https://localhost:8080/",
     "height": 366
    },
    "id": "_GEg-_vYscUu",
    "outputId": "14b5cedf-d2a2-4f36-fb0e-7860f901fd93"
   },
   "outputs": [
    {
     "data": {
      "text/plain": [
       "((35000, 72), (15000, 72))"
      ]
     },
     "execution_count": 19,
     "metadata": {
      "tags": []
     },
     "output_type": "execute_result"
    },
    {
     "data": {
      "image/png": "[encoded data removed]",
      "text/plain": [
       "<Figure size 1440x360 with 1 Axes>"
      ]
     },
     "metadata": {
      "needs_background": "light",
      "tags": []
     },
     "output_type": "display_data"
    }
   ],
   "source": [
    "#  the transformer stores a dictionary of feature:metric pairs\n",
    "# in this case is the roc_auc of each individual model\n",
    "sel.feature_performance_\n",
    "\n",
    "# we can plot feature importance sorted by importance\n",
    "pd.Series(sel.feature_performance_).sort_values(ascending=False).plot.bar(figsize=(20, 5))\n",
    "plt.title('Performance of ML models trained with individual features')\n",
    "plt.ylabel('roc-auc')\n",
    "\n",
    "# the features that will be removed\n",
    "len(sel.features_to_drop_)\n",
    "\n",
    "# remove non-prective features\n",
    "X_train = sel.transform(X_train)\n",
    "X_test = sel.transform(X_test)\n",
    "\n",
    "X_train.shape, X_test.shape"
   ]
  },
  {
   "cell_type": "markdown",
   "metadata": {
    "id": "kaxuRD-BumDz"
   },
   "source": [
    "### Select with Target Mean as Performance Proxy\n",
    "\n",
    "This transformer contains the methods of feature selection described in the notebook **06.2-Method-used-in-a-KDD-competition**\n",
    "\n",
    "The functionality has now been included in Feature-engine.\n",
    "\n",
    "Feature-engine automatically detects categorical and numerical variables. \n",
    "\n",
    "- Categories in categorical variables will be replaced by the mean value of the target.\n",
    "\n",
    "- Numerical variables will be first discretised and then, each bin replaced by the target mean value."
   ]
  },
  {
   "cell_type": "code",
   "execution_count": null,
   "metadata": {
    "colab": {
     "base_uri": "https://localhost:8080/"
    },
    "id": "WjyeLVyVu90Z",
    "outputId": "cdc40d87-e12b-4519-b18c-3e1636d54558"
   },
   "outputs": [
    {
     "data": {
      "text/plain": [
       "pclass       0\n",
       "survived     0\n",
       "name         0\n",
       "sex          0\n",
       "age          0\n",
       "sibsp        0\n",
       "parch        0\n",
       "ticket       0\n",
       "fare         0\n",
       "cabin        0\n",
       "embarked     0\n",
       "boat         0\n",
       "body         0\n",
       "home.dest    0\n",
       "dtype: int64"
      ]
     },
     "execution_count": 27,
     "metadata": {
      "tags": []
     },
     "output_type": "execute_result"
    }
   ],
   "source": [
    "# load the titanic dataset\n",
    "\n",
    "data = pd.read_csv('datasets/titanic.csv')\n",
    "data.shape\n",
    "\n",
    "# Variable preprocessing:\n",
    "\n",
    "# then I will narrow down the different cabins by selecting only the\n",
    "# first letter, which represents the deck in which the cabin was located\n",
    "\n",
    "# captures first letter of string (the letter of the cabin)\n",
    "data['cabin'] = data['cabin'].str[0]\n",
    "\n",
    "# now we will rename those cabin letters that appear only 1 or 2 in the\n",
    "# dataset by N\n",
    "\n",
    "# replace rare cabins by N\n",
    "data['cabin'] = np.where(data['cabin'].isin(['T', 'G']), 'N', data['cabin'])\n",
    "\n",
    "data['cabin'].unique()\n",
    "\n",
    "# cap variable at 3, the rest of the values are\n",
    "# shown by too few observations\n",
    "data['parch'] = np.where(data['parch']>3,3,data['parch'])\n",
    "\n",
    "# cap variable at 3, the rest of the values are\n",
    "# shown by too few observations\n",
    "data['sibsp'] = np.where(data['sibsp']>3,3,data['sibsp'])\n",
    "\n",
    "# cast discrete variables as categorical\n",
    "\n",
    "# feature-engine considers categorical variables all those of type\n",
    "# object. So in order to work with numerical variables as if they\n",
    "# were categorical, we  need to cast them as object\n",
    "data[['pclass','sibsp','parch']] = data[['pclass','sibsp','parch']].astype('O')\n",
    "\n",
    "# check absence of missing data\n",
    "data.isnull().sum()"
   ]
  },
  {
   "cell_type": "code",
   "execution_count": null,
   "metadata": {},
   "outputs": [],
   "source": [
    "from feature_engine.selection import SelectByTargetMeanPerformance\n",
    "# separate train and test sets\n",
    "X_train, X_test, y_train, y_test = train_test_split(\n",
    "    data.drop(['survived'], axis=1),\n",
    "    data['survived'],\n",
    "    test_size=0.3,\n",
    "    random_state=0)\n",
    "\n",
    "X_train.shape, X_test.shape\n",
    "\n",
    "# feautre engine automates the selection for both\n",
    "# categorical and numerical variables\n",
    "\n",
    "sel = SelectByTargetMeanPerformance(\n",
    "    variables=None, # automatically finds categorical and numerical variables\n",
    "    scoring=\"roc_auc_score\", # the metric to evaluate performance\n",
    "    threshold=0.6, # the threshold for feature selection, \n",
    "    bins=3, # the number of intervals to discretise the numerical variables\n",
    "    strategy=\"equal_frequency\", # whether the intervals should be of equal size or equal number of observations\n",
    "    cv=2,# cross validation\n",
    "    random_state=1, #seed for reproducibility\n",
    ")\n",
    "\n",
    "sel.fit(X_train, y_train)\n",
    "\n",
    "# after fitting, we can find the categorical variables\n",
    "# using this attribute\n",
    "sel.variables_categorical_\n",
    "\n",
    "# and here we find the numerical variables\n",
    "sel.variables_numerical_\n",
    "\n",
    "# here the selector stores the roc-auc per feature\n",
    "sel.feature_performance_\n",
    "\n",
    "# and these are the features that will be dropped\n",
    "sel.features_to_drop_\n",
    "\n",
    "X_train = sel.transform(X_train)\n",
    "X_test = sel.transform(X_test)\n",
    "\n",
    "X_train.shape, X_test.shape"
   ]
  },
  {
   "cell_type": "markdown",
   "metadata": {
    "id": "Bw6ATrjVrw1Z"
   },
   "source": [
    "# Wrapper Methods"
   ]
  },
  {
   "cell_type": "code",
   "execution_count": null,
   "metadata": {
    "colab": {
     "base_uri": "https://localhost:8080/"
    },
    "id": "0GUz75aGry-F",
    "outputId": "119121c9-1a24-4980-c582-1433088a8cba"
   },
   "outputs": [
    {
     "data": {
      "text/plain": [
       "((1022, 37), (438, 37))"
      ]
     },
     "execution_count": 33,
     "metadata": {
      "tags": []
     },
     "output_type": "execute_result"
    }
   ],
   "source": [
    "data = pd.read_csv('datasets/houseprice.csv')\n",
    "data.shape\n",
    "\n",
    "numerics = ['int16', 'int32', 'int64', 'float16', 'float32', 'float64']\n",
    "numerical_vars = list(data.select_dtypes(include=numerics).columns)\n",
    "data = data[numerical_vars]\n",
    "data.shape\n",
    "\n",
    "# separate train and test sets\n",
    "X_train, X_test, y_train, y_test = train_test_split(\n",
    "    data.drop(labels=['SalePrice'], axis=1),\n",
    "    data['SalePrice'],\n",
    "    test_size=0.3,\n",
    "    random_state=0)\n",
    "\n",
    "X_train.shape, X_test.shape"
   ]
  },
  {
   "cell_type": "markdown",
   "metadata": {
    "id": "W5SH91XdwM7N"
   },
   "source": [
    "## Step forward"
   ]
  },
  {
   "cell_type": "code",
   "execution_count": null,
   "metadata": {
    "colab": {
     "base_uri": "https://localhost:8080/"
    },
    "id": "uuqdKRaBd0yf",
    "outputId": "2e6b0c28-87a6-4bfc-9167-6fef8279811b"
   },
   "outputs": [
    {
     "name": "stdout",
     "output_type": "stream",
     "text": [
      "correlated features:  3\n"
     ]
    }
   ],
   "source": [
    "from mlxtend.feature_selection import SequentialFeatureSelector as SFS\n",
    "from sklearn.ensemble import RandomForestRegressor, RandomForestClassifier\n",
    "from sklearn.metrics import roc_auc_score, r2_score\n",
    "\n",
    "# find and remove correlated features\n",
    "\n",
    "def correlation(dataset, threshold):\n",
    "    col_corr = set()  # Set of all the names of correlated columns\n",
    "    corr_matrix = dataset.corr()\n",
    "    for i in range(len(corr_matrix.columns)):\n",
    "        for j in range(i):\n",
    "            if abs(corr_matrix.iloc[i, j]) > threshold: # we are interested in absolute coeff value\n",
    "                colname = corr_matrix.columns[i]  # getting the name of column\n",
    "                col_corr.add(colname)\n",
    "    return col_corr\n",
    "\n",
    "corr_features = correlation(X_train, 0.8)\n",
    "print('correlated features: ', len(set(corr_features)) )\n",
    "\n",
    "# removed correlated features\n",
    "X_train.drop(labels=corr_features, axis=1, inplace=True)\n",
    "X_test.drop(labels=corr_features, axis=1, inplace=True)\n",
    "\n",
    "X_train.shape, X_test.shape\n",
    "\n",
    "X_train.fillna(0, inplace=True)\n",
    "X_test.fillna(0, inplace=True)"
   ]
  },
  {
   "cell_type": "code",
   "execution_count": null,
   "metadata": {
    "colab": {
     "base_uri": "https://localhost:8080/"
    },
    "id": "G7-ITxVod2Lv",
    "outputId": "39970f25-0a73-4541-83c4-521a78ac7382"
   },
   "outputs": [
    {
     "name": "stderr",
     "output_type": "stream",
     "text": [
      "[Parallel(n_jobs=1)]: Using backend SequentialBackend with 1 concurrent workers.\n",
      "[Parallel(n_jobs=1)]: Done   1 out of   1 | elapsed:    2.2s remaining:    0.0s\n",
      "[Parallel(n_jobs=1)]: Done  34 out of  34 | elapsed:   11.4s finished\n",
      "\n",
      "[2021-06-16 06:18:51] Features: 1/20 -- score: 0.6448864917335086[Parallel(n_jobs=1)]: Using backend SequentialBackend with 1 concurrent workers.\n",
      "[Parallel(n_jobs=1)]: Done   1 out of   1 | elapsed:    0.3s remaining:    0.0s\n",
      "[Parallel(n_jobs=1)]: Done  33 out of  33 | elapsed:    9.4s finished\n",
      "\n",
      "[2021-06-16 06:19:00] Features: 2/20 -- score: 0.6946490592888616[Parallel(n_jobs=1)]: Using backend SequentialBackend with 1 concurrent workers.\n",
      "[Parallel(n_jobs=1)]: Done   1 out of   1 | elapsed:    0.3s remaining:    0.0s\n",
      "[Parallel(n_jobs=1)]: Done  32 out of  32 | elapsed:    9.0s finished\n",
      "\n",
      "[2021-06-16 06:19:09] Features: 3/20 -- score: 0.732141233157488[Parallel(n_jobs=1)]: Using backend SequentialBackend with 1 concurrent workers.\n",
      "[Parallel(n_jobs=1)]: Done   1 out of   1 | elapsed:    0.3s remaining:    0.0s\n",
      "[Parallel(n_jobs=1)]: Done  31 out of  31 | elapsed:    8.7s finished\n",
      "\n",
      "[2021-06-16 06:19:18] Features: 4/20 -- score: 0.7423196453374377[Parallel(n_jobs=1)]: Using backend SequentialBackend with 1 concurrent workers.\n",
      "[Parallel(n_jobs=1)]: Done   1 out of   1 | elapsed:    0.3s remaining:    0.0s\n",
      "[Parallel(n_jobs=1)]: Done  30 out of  30 | elapsed:    8.5s finished\n",
      "\n",
      "[2021-06-16 06:19:27] Features: 5/20 -- score: 0.7489702405093164[Parallel(n_jobs=1)]: Using backend SequentialBackend with 1 concurrent workers.\n",
      "[Parallel(n_jobs=1)]: Done   1 out of   1 | elapsed:    0.3s remaining:    0.0s\n",
      "[Parallel(n_jobs=1)]: Done  29 out of  29 | elapsed:    8.4s finished\n",
      "\n",
      "[2021-06-16 06:19:35] Features: 6/20 -- score: 0.7758111017343085[Parallel(n_jobs=1)]: Using backend SequentialBackend with 1 concurrent workers.\n",
      "[Parallel(n_jobs=1)]: Done   1 out of   1 | elapsed:    0.3s remaining:    0.0s\n",
      "[Parallel(n_jobs=1)]: Done  28 out of  28 | elapsed:    8.2s finished\n",
      "\n",
      "[2021-06-16 06:19:43] Features: 7/20 -- score: 0.7929944825142443[Parallel(n_jobs=1)]: Using backend SequentialBackend with 1 concurrent workers.\n",
      "[Parallel(n_jobs=1)]: Done   1 out of   1 | elapsed:    0.3s remaining:    0.0s\n",
      "[Parallel(n_jobs=1)]: Done  27 out of  27 | elapsed:    8.0s finished\n",
      "\n",
      "[2021-06-16 06:19:51] Features: 8/20 -- score: 0.8001157262251659[Parallel(n_jobs=1)]: Using backend SequentialBackend with 1 concurrent workers.\n",
      "[Parallel(n_jobs=1)]: Done   1 out of   1 | elapsed:    0.3s remaining:    0.0s\n",
      "[Parallel(n_jobs=1)]: Done  26 out of  26 | elapsed:    7.8s finished\n",
      "\n",
      "[2021-06-16 06:19:59] Features: 9/20 -- score: 0.8044090433577766[Parallel(n_jobs=1)]: Using backend SequentialBackend with 1 concurrent workers.\n",
      "[Parallel(n_jobs=1)]: Done   1 out of   1 | elapsed:    0.3s remaining:    0.0s\n",
      "[Parallel(n_jobs=1)]: Done  25 out of  25 | elapsed:    7.6s finished\n",
      "\n",
      "[2021-06-16 06:20:07] Features: 10/20 -- score: 0.804289727092082[Parallel(n_jobs=1)]: Using backend SequentialBackend with 1 concurrent workers.\n",
      "[Parallel(n_jobs=1)]: Done   1 out of   1 | elapsed:    0.3s remaining:    0.0s\n",
      "[Parallel(n_jobs=1)]: Done  24 out of  24 | elapsed:    7.3s finished\n",
      "\n",
      "[2021-06-16 06:20:14] Features: 11/20 -- score: 0.8049986229009377[Parallel(n_jobs=1)]: Using backend SequentialBackend with 1 concurrent workers.\n",
      "[Parallel(n_jobs=1)]: Done   1 out of   1 | elapsed:    0.3s remaining:    0.0s\n",
      "[Parallel(n_jobs=1)]: Done  23 out of  23 | elapsed:    7.0s finished\n",
      "\n",
      "[2021-06-16 06:20:21] Features: 12/20 -- score: 0.8079999508254482[Parallel(n_jobs=1)]: Using backend SequentialBackend with 1 concurrent workers.\n",
      "[Parallel(n_jobs=1)]: Done   1 out of   1 | elapsed:    0.3s remaining:    0.0s\n",
      "[Parallel(n_jobs=1)]: Done  22 out of  22 | elapsed:    6.7s finished\n",
      "\n",
      "[2021-06-16 06:20:28] Features: 13/20 -- score: 0.8086300806880972[Parallel(n_jobs=1)]: Using backend SequentialBackend with 1 concurrent workers.\n",
      "[Parallel(n_jobs=1)]: Done   1 out of   1 | elapsed:    0.3s remaining:    0.0s\n",
      "[Parallel(n_jobs=1)]: Done  21 out of  21 | elapsed:    6.5s finished\n",
      "\n",
      "[2021-06-16 06:20:34] Features: 14/20 -- score: 0.8079477641622586[Parallel(n_jobs=1)]: Using backend SequentialBackend with 1 concurrent workers.\n",
      "[Parallel(n_jobs=1)]: Done   1 out of   1 | elapsed:    0.3s remaining:    0.0s\n",
      "[Parallel(n_jobs=1)]: Done  20 out of  20 | elapsed:    6.3s finished\n",
      "\n",
      "[2021-06-16 06:20:40] Features: 15/20 -- score: 0.8108703232563307[Parallel(n_jobs=1)]: Using backend SequentialBackend with 1 concurrent workers.\n",
      "[Parallel(n_jobs=1)]: Done   1 out of   1 | elapsed:    0.3s remaining:    0.0s\n",
      "[Parallel(n_jobs=1)]: Done  19 out of  19 | elapsed:    6.0s finished\n",
      "\n",
      "[2021-06-16 06:20:46] Features: 16/20 -- score: 0.8288961238144907[Parallel(n_jobs=1)]: Using backend SequentialBackend with 1 concurrent workers.\n",
      "[Parallel(n_jobs=1)]: Done   1 out of   1 | elapsed:    0.3s remaining:    0.0s\n",
      "[Parallel(n_jobs=1)]: Done  18 out of  18 | elapsed:    5.7s finished\n",
      "\n",
      "[2021-06-16 06:20:52] Features: 17/20 -- score: 0.8294368373368814[Parallel(n_jobs=1)]: Using backend SequentialBackend with 1 concurrent workers.\n",
      "[Parallel(n_jobs=1)]: Done   1 out of   1 | elapsed:    0.3s remaining:    0.0s\n",
      "[Parallel(n_jobs=1)]: Done  17 out of  17 | elapsed:    5.5s finished\n",
      "\n",
      "[2021-06-16 06:20:58] Features: 18/20 -- score: 0.8366393151918193[Parallel(n_jobs=1)]: Using backend SequentialBackend with 1 concurrent workers.\n",
      "[Parallel(n_jobs=1)]: Done   1 out of   1 | elapsed:    0.3s remaining:    0.0s\n",
      "[Parallel(n_jobs=1)]: Done  16 out of  16 | elapsed:    5.2s finished\n",
      "\n",
      "[2021-06-16 06:21:03] Features: 19/20 -- score: 0.8360548783160211[Parallel(n_jobs=1)]: Using backend SequentialBackend with 1 concurrent workers.\n",
      "[Parallel(n_jobs=1)]: Done   1 out of   1 | elapsed:    0.3s remaining:    0.0s\n",
      "[Parallel(n_jobs=1)]: Done  15 out of  15 | elapsed:    4.8s finished\n",
      "\n",
      "[2021-06-16 06:21:08] Features: 20/20 -- score: 0.8306570411384331"
     ]
    },
    {
     "data": {
      "text/plain": [
       "Index(['MSSubClass', 'LotArea', 'OverallQual', 'OverallCond', 'YearBuilt',\n",
       "       'YearRemodAdd', 'BsmtUnfSF', 'TotalBsmtSF', '1stFlrSF', '2ndFlrSF',\n",
       "       'GrLivArea', 'BsmtFullBath', 'BsmtHalfBath', 'FullBath', 'Fireplaces',\n",
       "       'GarageCars', 'WoodDeckSF', '3SsnPorch', 'ScreenPorch', 'PoolArea'],\n",
       "      dtype='object')"
      ]
     },
     "execution_count": 16,
     "metadata": {
      "tags": []
     },
     "output_type": "execute_result"
    }
   ],
   "source": [
    "# step forward feature selection\n",
    "\n",
    "sfs = SFS(RandomForestRegressor(n_estimators=10, n_jobs=4, random_state=10), \n",
    "           k_features=20, \n",
    "           forward=True, \n",
    "           floating=False, \n",
    "           verbose=2,\n",
    "           scoring='r2',\n",
    "           cv=2)\n",
    "\n",
    "sfs = sfs.fit(np.array(X_train), y_train)\n",
    "\n",
    "# indices of the selected columns\n",
    "sfs.k_feature_idx_\n",
    "\n",
    "# selected columns\n",
    "X_train.columns[list(sfs.k_feature_idx_)]"
   ]
  },
  {
   "cell_type": "code",
   "execution_count": null,
   "metadata": {
    "colab": {
     "base_uri": "https://localhost:8080/"
    },
    "id": "5yMKqpwGeepg",
    "outputId": "d5ed1675-b37b-4bef-f984-aef9498aa585"
   },
   "outputs": [
    {
     "name": "stdout",
     "output_type": "stream",
     "text": [
      "Train set\n",
      "Random Forests roc-auc: 0.8629621682457452\n",
      "Test set\n",
      "Random Forests roc-auc: 0.8246015925536159\n",
      "None\n",
      "Train set\n",
      "Random Forests roc-auc: 0.8699152317492538\n",
      "Test set\n",
      "Random Forests roc-auc: 0.8190809813112794\n",
      "None\n"
     ]
    }
   ],
   "source": [
    "# Compare performance between all and selected features\n",
    "\n",
    "# function to train random forests and evaluate the performance\n",
    "\n",
    "def run_randomForests(X_train, X_test, y_train, y_test):\n",
    "    \n",
    "    rf = RandomForestRegressor(n_estimators=200, random_state=39, max_depth=4)\n",
    "    rf.fit(X_train, y_train)\n",
    "\n",
    "    print('Train set')\n",
    "    pred = rf.predict(X_train)\n",
    "    print('Random Forests roc-auc: {}'.format(r2_score(y_train, pred)))\n",
    "    \n",
    "    print('Test set')\n",
    "    pred = rf.predict(X_test)\n",
    "    print('Random Forests roc-auc: {}'.format(r2_score(y_test, pred)))\n",
    "\n",
    "selected_feat = X_train.columns[list(sfs.k_feature_idx_)]\n",
    "\n",
    "# evaluate performance of algorithm built\n",
    "# using selected features\n",
    "\n",
    "print(run_randomForests(X_train[selected_feat],\n",
    "                  X_test[selected_feat],\n",
    "                  y_train, y_test))\n",
    "\n",
    "# and for comparison, we train random forests using\n",
    "# all features (except the correlated ones, which we removed already)\n",
    "print(run_randomForests(X_train,\n",
    "                  X_test,\n",
    "                  y_train, y_test))"
   ]
  },
  {
   "cell_type": "markdown",
   "metadata": {
    "id": "neiOcXCowO6W"
   },
   "source": [
    "## Step backward"
   ]
  },
  {
   "cell_type": "code",
   "execution_count": null,
   "metadata": {
    "colab": {
     "base_uri": "https://localhost:8080/"
    },
    "id": "mw1SxCdxkKVG",
    "outputId": "60c66a67-a689-4f04-a5b8-56cd2f641d4c"
   },
   "outputs": [
    {
     "name": "stdout",
     "output_type": "stream",
     "text": [
      "correlated features:  3\n"
     ]
    }
   ],
   "source": [
    "from mlxtend.feature_selection import SequentialFeatureSelector as SFS\n",
    "from sklearn.ensemble import RandomForestRegressor, RandomForestClassifier\n",
    "from sklearn.metrics import roc_auc_score, r2_score\n",
    "\n",
    "# find and remove correlated features\n",
    "\n",
    "def correlation(dataset, threshold):\n",
    "    col_corr = set()  # Set of all the names of correlated columns\n",
    "    corr_matrix = dataset.corr()\n",
    "    for i in range(len(corr_matrix.columns)):\n",
    "        for j in range(i):\n",
    "            if abs(corr_matrix.iloc[i, j]) > threshold: # we are interested in absolute coeff value\n",
    "                colname = corr_matrix.columns[i]  # getting the name of column\n",
    "                col_corr.add(colname)\n",
    "    return col_corr\n",
    "\n",
    "corr_features = correlation(X_train, 0.8)\n",
    "print('correlated features: ', len(set(corr_features)) )\n",
    "\n",
    "# removed correlated features\n",
    "X_train.drop(labels=corr_features, axis=1, inplace=True)\n",
    "X_test.drop(labels=corr_features, axis=1, inplace=True)\n",
    "\n",
    "X_train.shape, X_test.shape\n",
    "\n",
    "X_train.fillna(0, inplace=True)\n",
    "X_test.fillna(0, inplace=True)"
   ]
  },
  {
   "cell_type": "code",
   "execution_count": null,
   "metadata": {
    "colab": {
     "base_uri": "https://localhost:8080/"
    },
    "id": "C32Nljrij15s",
    "outputId": "1935fb3e-87a6-41b6-8538-512b0d07d598"
   },
   "outputs": [
    {
     "name": "stderr",
     "output_type": "stream",
     "text": [
      "[Parallel(n_jobs=1)]: Using backend SequentialBackend with 1 concurrent workers.\n",
      "[Parallel(n_jobs=1)]: Done   1 out of   1 | elapsed:    0.3s remaining:    0.0s\n",
      "[Parallel(n_jobs=1)]: Done  34 out of  34 | elapsed:   11.8s finished\n",
      "\n",
      "[2021-06-16 06:45:32] Features: 33/20 -- score: 0.825434533342885[Parallel(n_jobs=1)]: Using backend SequentialBackend with 1 concurrent workers.\n",
      "[Parallel(n_jobs=1)]: Done   1 out of   1 | elapsed:    0.4s remaining:    0.0s\n",
      "[Parallel(n_jobs=1)]: Done  33 out of  33 | elapsed:   11.3s finished\n",
      "\n",
      "[2021-06-16 06:45:44] Features: 32/20 -- score: 0.8269182238540728[Parallel(n_jobs=1)]: Using backend SequentialBackend with 1 concurrent workers.\n",
      "[Parallel(n_jobs=1)]: Done   1 out of   1 | elapsed:    0.4s remaining:    0.0s\n",
      "[Parallel(n_jobs=1)]: Done  32 out of  32 | elapsed:   11.1s finished\n",
      "\n",
      "[2021-06-16 06:45:55] Features: 31/20 -- score: 0.8321203993856869[Parallel(n_jobs=1)]: Using backend SequentialBackend with 1 concurrent workers.\n",
      "[Parallel(n_jobs=1)]: Done   1 out of   1 | elapsed:    0.3s remaining:    0.0s\n",
      "[Parallel(n_jobs=1)]: Done  31 out of  31 | elapsed:   10.6s finished\n",
      "\n",
      "[2021-06-16 06:46:06] Features: 30/20 -- score: 0.826565096160356[Parallel(n_jobs=1)]: Using backend SequentialBackend with 1 concurrent workers.\n",
      "[Parallel(n_jobs=1)]: Done   1 out of   1 | elapsed:    0.4s remaining:    0.0s\n",
      "[Parallel(n_jobs=1)]: Done  30 out of  30 | elapsed:   10.2s finished\n",
      "\n",
      "[2021-06-16 06:46:16] Features: 29/20 -- score: 0.8297349081341103[Parallel(n_jobs=1)]: Using backend SequentialBackend with 1 concurrent workers.\n",
      "[Parallel(n_jobs=1)]: Done   1 out of   1 | elapsed:    0.3s remaining:    0.0s\n",
      "[Parallel(n_jobs=1)]: Done  29 out of  29 | elapsed:    9.7s finished\n",
      "\n",
      "[2021-06-16 06:46:25] Features: 28/20 -- score: 0.8347342098816987[Parallel(n_jobs=1)]: Using backend SequentialBackend with 1 concurrent workers.\n",
      "[Parallel(n_jobs=1)]: Done   1 out of   1 | elapsed:    0.3s remaining:    0.0s\n",
      "[Parallel(n_jobs=1)]: Done  28 out of  28 | elapsed:    9.3s finished\n",
      "\n",
      "[2021-06-16 06:46:35] Features: 27/20 -- score: 0.8330866197775185[Parallel(n_jobs=1)]: Using backend SequentialBackend with 1 concurrent workers.\n",
      "[Parallel(n_jobs=1)]: Done   1 out of   1 | elapsed:    0.3s remaining:    0.0s\n",
      "[Parallel(n_jobs=1)]: Done  27 out of  27 | elapsed:    8.9s finished\n",
      "\n",
      "[2021-06-16 06:46:44] Features: 26/20 -- score: 0.8384069806635874[Parallel(n_jobs=1)]: Using backend SequentialBackend with 1 concurrent workers.\n",
      "[Parallel(n_jobs=1)]: Done   1 out of   1 | elapsed:    0.3s remaining:    0.0s\n",
      "[Parallel(n_jobs=1)]: Done  26 out of  26 | elapsed:    8.5s finished\n",
      "\n",
      "[2021-06-16 06:46:52] Features: 25/20 -- score: 0.8332772032724493[Parallel(n_jobs=1)]: Using backend SequentialBackend with 1 concurrent workers.\n",
      "[Parallel(n_jobs=1)]: Done   1 out of   1 | elapsed:    0.3s remaining:    0.0s\n",
      "[Parallel(n_jobs=1)]: Done  25 out of  25 | elapsed:    8.2s finished\n",
      "\n",
      "[2021-06-16 06:47:01] Features: 24/20 -- score: 0.8369514759762875[Parallel(n_jobs=1)]: Using backend SequentialBackend with 1 concurrent workers.\n",
      "[Parallel(n_jobs=1)]: Done   1 out of   1 | elapsed:    0.3s remaining:    0.0s\n",
      "[Parallel(n_jobs=1)]: Done  24 out of  24 | elapsed:    7.8s finished\n",
      "\n",
      "[2021-06-16 06:47:08] Features: 23/20 -- score: 0.8445883592176333[Parallel(n_jobs=1)]: Using backend SequentialBackend with 1 concurrent workers.\n",
      "[Parallel(n_jobs=1)]: Done   1 out of   1 | elapsed:    0.3s remaining:    0.0s\n",
      "[Parallel(n_jobs=1)]: Done  23 out of  23 | elapsed:    7.4s finished\n",
      "\n",
      "[2021-06-16 06:47:16] Features: 22/20 -- score: 0.8366958736874247[Parallel(n_jobs=1)]: Using backend SequentialBackend with 1 concurrent workers.\n",
      "[Parallel(n_jobs=1)]: Done   1 out of   1 | elapsed:    0.3s remaining:    0.0s\n",
      "[Parallel(n_jobs=1)]: Done  22 out of  22 | elapsed:    7.1s finished\n",
      "\n",
      "[2021-06-16 06:47:23] Features: 21/20 -- score: 0.8420599404686491[Parallel(n_jobs=1)]: Using backend SequentialBackend with 1 concurrent workers.\n",
      "[Parallel(n_jobs=1)]: Done   1 out of   1 | elapsed:    0.3s remaining:    0.0s\n",
      "[Parallel(n_jobs=1)]: Done  21 out of  21 | elapsed:    6.8s finished\n",
      "\n",
      "[2021-06-16 06:47:30] Features: 20/20 -- score: 0.8384558070101512"
     ]
    },
    {
     "data": {
      "text/plain": [
       "Index(['Id', 'LotArea', 'OverallQual', 'OverallCond', 'YearBuilt',\n",
       "       'YearRemodAdd', 'BsmtFinSF1', 'TotalBsmtSF', '2ndFlrSF', 'GrLivArea',\n",
       "       'BsmtHalfBath', 'HalfBath', 'KitchenAbvGr', 'Fireplaces', 'GarageCars',\n",
       "       'OpenPorchSF', 'EnclosedPorch', '3SsnPorch', 'MiscVal', 'MoSold'],\n",
       "      dtype='object')"
      ]
     },
     "execution_count": 23,
     "metadata": {
      "tags": []
     },
     "output_type": "execute_result"
    }
   ],
   "source": [
    "# step forward feature selection\n",
    "\n",
    "sfs = SFS(RandomForestRegressor(n_estimators=10, n_jobs=4, random_state=10), \n",
    "           k_features=20, \n",
    "           forward=False, \n",
    "           floating=False, \n",
    "           verbose=2,\n",
    "           scoring='r2',\n",
    "           cv=2)\n",
    "\n",
    "sfs = sfs.fit(np.array(X_train), y_train)\n",
    "\n",
    "# indices of the selected columns\n",
    "sfs.k_feature_idx_\n",
    "\n",
    "# selected columns\n",
    "X_train.columns[list(sfs.k_feature_idx_)]"
   ]
  },
  {
   "cell_type": "code",
   "execution_count": null,
   "metadata": {
    "colab": {
     "base_uri": "https://localhost:8080/"
    },
    "id": "5idoWhP5j92o",
    "outputId": "b096502f-82d0-4721-851e-39d2943db0a2"
   },
   "outputs": [
    {
     "name": "stdout",
     "output_type": "stream",
     "text": [
      "Train set\n",
      "Random Forests roc-auc: 0.8702345974928545\n",
      "Test set\n",
      "Random Forests roc-auc: 0.8240294353877188\n",
      "None\n",
      "Train set\n",
      "Random Forests roc-auc: 0.8699152317492538\n",
      "Test set\n",
      "Random Forests roc-auc: 0.8190809813112794\n",
      "None\n"
     ]
    }
   ],
   "source": [
    "# Compare performance between all and selected features\n",
    "\n",
    "# function to train random forests and evaluate the performance\n",
    "\n",
    "def run_randomForests(X_train, X_test, y_train, y_test):\n",
    "    \n",
    "    rf = RandomForestRegressor(n_estimators=200, random_state=39, max_depth=4)\n",
    "    rf.fit(X_train, y_train)\n",
    "\n",
    "    print('Train set')\n",
    "    pred = rf.predict(X_train)\n",
    "    print('Random Forests roc-auc: {}'.format(r2_score(y_train, pred)))\n",
    "    \n",
    "    print('Test set')\n",
    "    pred = rf.predict(X_test)\n",
    "    print('Random Forests roc-auc: {}'.format(r2_score(y_test, pred)))\n",
    "\n",
    "selected_feat = X_train.columns[list(sfs.k_feature_idx_)]\n",
    "\n",
    "# evaluate performance of algorithm built\n",
    "# using selected features\n",
    "\n",
    "print(run_randomForests(X_train[selected_feat],\n",
    "                  X_test[selected_feat],\n",
    "                  y_train, y_test))\n",
    "\n",
    "# and for comparison, we train random forests using\n",
    "# all features (except the correlated ones, which we removed already)\n",
    "print(run_randomForests(X_train,\n",
    "                  X_test,\n",
    "                  y_train, y_test))"
   ]
  },
  {
   "cell_type": "markdown",
   "metadata": {
    "id": "zSUfZ2h0l6Dk"
   },
   "source": [
    "## Exhaustive Feature Search"
   ]
  },
  {
   "cell_type": "code",
   "execution_count": null,
   "metadata": {
    "colab": {
     "base_uri": "https://localhost:8080/"
    },
    "id": "KtubOjHsmCa2",
    "outputId": "5a2884c7-bc07-4bb8-ebf4-6ef54f7e4013"
   },
   "outputs": [
    {
     "name": "stdout",
     "output_type": "stream",
     "text": [
      "correlated features:  3\n"
     ]
    }
   ],
   "source": [
    "from mlxtend.feature_selection import ExhaustiveFeatureSelector as EFS\n",
    "from sklearn.ensemble import RandomForestRegressor, RandomForestClassifier\n",
    "from sklearn.metrics import roc_auc_score, r2_score\n",
    "\n",
    "# find and remove correlated features\n",
    "\n",
    "def correlation(dataset, threshold):\n",
    "    col_corr = set()  # Set of all the names of correlated columns\n",
    "    corr_matrix = dataset.corr()\n",
    "    for i in range(len(corr_matrix.columns)):\n",
    "        for j in range(i):\n",
    "            if abs(corr_matrix.iloc[i, j]) > threshold: # we are interested in absolute coeff value\n",
    "                colname = corr_matrix.columns[i]  # getting the name of column\n",
    "                col_corr.add(colname)\n",
    "    return col_corr\n",
    "\n",
    "corr_features = correlation(X_train, 0.8)\n",
    "print('correlated features: ', len(set(corr_features)) )\n",
    "\n",
    "# removed correlated features\n",
    "X_train.drop(labels=corr_features, axis=1, inplace=True)\n",
    "X_test.drop(labels=corr_features, axis=1, inplace=True)\n",
    "\n",
    "X_train.shape, X_test.shape\n",
    "\n",
    "X_train.fillna(0, inplace=True)\n",
    "X_test.fillna(0, inplace=True)"
   ]
  },
  {
   "cell_type": "code",
   "execution_count": null,
   "metadata": {
    "colab": {
     "base_uri": "https://localhost:8080/"
    },
    "id": "AsdufkI6mPlo",
    "outputId": "e5b4d7f6-ea8b-499b-ae08-f1f2c504c613"
   },
   "outputs": [
    {
     "name": "stderr",
     "output_type": "stream",
     "text": [
      "Features: 595/595"
     ]
    },
    {
     "data": {
      "text/plain": [
       "Index(['OverallQual', 'GarageCars'], dtype='object')"
      ]
     },
     "execution_count": 0,
     "metadata": {
      "tags": []
     },
     "output_type": "execute_result"
    }
   ],
   "source": [
    "# step forward feature selection\n",
    "\n",
    "efs = EFS(RandomForestRegressor(), \n",
    "          min_features=1,\n",
    "          max_features=2,\n",
    "          scoring='r2',\n",
    "          print_progress=True,\n",
    "           cv=2)\n",
    "\n",
    "efs = efs.fit(np.array(X_train), y_train)\n",
    "\n",
    "# indices of the selected columns\n",
    "efs.best_idx_\n",
    "\n",
    "# selected columns\n",
    "X_train.columns[list(efs.best_idx_)]"
   ]
  },
  {
   "cell_type": "code",
   "execution_count": null,
   "metadata": {
    "colab": {
     "base_uri": "https://localhost:8080/"
    },
    "id": "uDBv_kSsmKEk",
    "outputId": "5d3f2f18-017f-4633-9a34-28faa775a1c1"
   },
   "outputs": [
    {
     "name": "stdout",
     "output_type": "stream",
     "text": [
      "Train set\n",
      "Random Forests roc-auc: 0.7358029283039249\n",
      "Test set\n",
      "Random Forests roc-auc: 0.7363162876279004\n",
      "None\n",
      "Train set\n",
      "Random Forests roc-auc: 0.8699152317492538\n",
      "Test set\n",
      "Random Forests roc-auc: 0.8190809813112794\n",
      "None\n"
     ]
    }
   ],
   "source": [
    "# Compare performance between all and selected features\n",
    "\n",
    "# function to train random forests and evaluate the performance\n",
    "\n",
    "def run_randomForests(X_train, X_test, y_train, y_test):\n",
    "    \n",
    "    rf = RandomForestRegressor(n_estimators=200, random_state=39, max_depth=4)\n",
    "    rf.fit(X_train, y_train)\n",
    "\n",
    "    print('Train set')\n",
    "    pred = rf.predict(X_train)\n",
    "    print('Random Forests roc-auc: {}'.format(r2_score(y_train, pred)))\n",
    "    \n",
    "    print('Test set')\n",
    "    pred = rf.predict(X_test)\n",
    "    print('Random Forests roc-auc: {}'.format(r2_score(y_test, pred)))\n",
    "\n",
    "selected_feat = X_train.columns[list(efs.best_idx_)]\n",
    "\n",
    "# evaluate performance of algorithm built\n",
    "# using selected features\n",
    "\n",
    "print(run_randomForests(X_train[selected_feat],\n",
    "                  X_test[selected_feat],\n",
    "                  y_train, y_test))\n",
    "\n",
    "# and for comparison, we train random forests using\n",
    "# all features (except the correlated ones, which we removed already)\n",
    "print(run_randomForests(X_train,\n",
    "                  X_test,\n",
    "                  y_train, y_test))"
   ]
  },
  {
   "cell_type": "markdown",
   "metadata": {
    "id": "S4zAoiXXypNA"
   },
   "source": [
    "# Embedded Methods"
   ]
  },
  {
   "cell_type": "markdown",
   "metadata": {
    "id": "KSNap7Wm2Vza"
   },
   "source": [
    "## Linear Models"
   ]
  },
  {
   "cell_type": "code",
   "execution_count": null,
   "metadata": {
    "colab": {
     "base_uri": "https://localhost:8080/"
    },
    "id": "EJJ7w6pA6gi9",
    "outputId": "f21407ed-d3ee-4532-d71c-4d3b6beb7828"
   },
   "outputs": [
    {
     "data": {
      "text/plain": [
       "((1022, 37), (438, 37))"
      ]
     },
     "execution_count": 43,
     "metadata": {
      "tags": []
     },
     "output_type": "execute_result"
    }
   ],
   "source": [
    "# For classification: https://colab.research.google.com/drive/153bfmIzvUE9QopAWDEzA-7oCA3RqLLLZ#scrollTo=o_Bb-LTy3NgS\n",
    "from sklearn.preprocessing import StandardScaler\n",
    "from sklearn.linear_model import LogisticRegression\n",
    "from sklearn.linear_model import LinearRegression\n",
    "from sklearn.feature_selection import SelectFromModel\n",
    "\n",
    "data = pd.read_csv('datasets/houseprice.csv')\n",
    "data.shape\n",
    "\n",
    "numerics = ['int16', 'int32', 'int64', 'float16', 'float32', 'float64']\n",
    "numerical_vars = list(data.select_dtypes(include=numerics).columns)\n",
    "data = data[numerical_vars]\n",
    "data.shape\n",
    "\n",
    "# separate train and test sets\n",
    "X_train, X_test, y_train, y_test = train_test_split(\n",
    "    data.drop(labels=['SalePrice'], axis=1),\n",
    "    data['SalePrice'],\n",
    "    test_size=0.3,\n",
    "    random_state=0)\n",
    "\n",
    "X_train.shape, X_test.shape"
   ]
  },
  {
   "cell_type": "code",
   "execution_count": null,
   "metadata": {
    "colab": {
     "base_uri": "https://localhost:8080/",
     "height": 330
    },
    "id": "UT54q2Ts6xhE",
    "outputId": "12de1d34-d134-497b-dac8-1376dbbbf02d"
   },
   "outputs": [
    {
     "data": {
      "image/png": "[encoded data removed]",
      "text/plain": [
       "<Figure size 432x288 with 1 Axes>"
      ]
     },
     "metadata": {
      "needs_background": "light",
      "tags": []
     },
     "output_type": "display_data"
    },
    {
     "name": "stdout",
     "output_type": "stream",
     "text": [
      "total features: 37\n",
      "selected features: 7\n",
      "features with coefficients greater than the mean coefficient: 7\n"
     ]
    }
   ],
   "source": [
    "X_train = X_train.fillna(0)\n",
    "X_test = X_test.fillna(0)\n",
    "\n",
    "# the features in the house dataset are in different scales\n",
    "# so we train a scaler to scale them\n",
    "\n",
    "scaler = StandardScaler()\n",
    "scaler.fit(X_train)\n",
    "\n",
    "# we train a Linear regression model and select\n",
    "# features with higher coefficients.\n",
    "\n",
    "# the LinearRegression object from sklearn is a non-regularised\n",
    "# linear method. It fits by matrix multiplication and not \n",
    "# gradient descent.\n",
    "\n",
    "# therefore we don't need to specify penalty and other parameters\n",
    "\n",
    "sel_ = SelectFromModel(LinearRegression())\n",
    "\n",
    "sel_.fit(scaler.transform(X_train), y_train)\n",
    "\n",
    "# let's count the number of variables selected\n",
    "selected_feat = X_train.columns[(sel_.get_support())]\n",
    "\n",
    "len(selected_feat)\n",
    "\n",
    "# and now let's plot the histogram of absolute coefficients\n",
    "\n",
    "pd.Series(np.abs(sel_.estimator_.coef_).ravel()).hist(bins=10)\n",
    "plt.xlabel('Coefficients')\n",
    "plt.ylabel('Number of variables')\n",
    "plt.show()\n",
    "\n",
    "# and now, let's compare the  amount of selected features\n",
    "# with the amount of features which coefficient is above the\n",
    "# mean coefficient, to make sure we understand the output of\n",
    "# sklearn\n",
    "\n",
    "print('total features: {}'.format((X_train.shape[1])))\n",
    "\n",
    "print('selected features: {}'.format(len(selected_feat)))\n",
    "\n",
    "print(\n",
    "    'features with coefficients greater than the mean coefficient: {}'.format(\n",
    "        np.sum(\n",
    "            np.abs(sel_.estimator_.coef_) > np.abs(\n",
    "                sel_.estimator_.coef_).mean())))"
   ]
  },
  {
   "cell_type": "markdown",
   "metadata": {
    "id": "FD17apXz2YM3"
   },
   "source": [
    "## Lasso"
   ]
  },
  {
   "cell_type": "code",
   "execution_count": null,
   "metadata": {
    "colab": {
     "base_uri": "https://localhost:8080/"
    },
    "id": "6WE5W5aV7q6n",
    "outputId": "c78e5c4e-a9af-41ff-c704-8edd245f2315"
   },
   "outputs": [
    {
     "data": {
      "text/plain": [
       "((1022, 37), (438, 37))"
      ]
     },
     "execution_count": 48,
     "metadata": {
      "tags": []
     },
     "output_type": "execute_result"
    }
   ],
   "source": [
    "from sklearn.linear_model import Lasso, LogisticRegression\n",
    "from sklearn.feature_selection import SelectFromModel\n",
    "from sklearn.preprocessing import StandardScaler\n",
    "\n",
    "# For classification: https://colab.research.google.com/drive/153bfmIzvUE9QopAWDEzA-7oCA3RqLLLZ#scrollTo=o_Bb-LTy3NgS\n",
    "from sklearn.preprocessing import StandardScaler\n",
    "from sklearn.linear_model import LogisticRegression\n",
    "from sklearn.linear_model import LinearRegression\n",
    "from sklearn.feature_selection import SelectFromModel\n",
    "\n",
    "data = pd.read_csv('datasets/houseprice.csv')\n",
    "data.shape\n",
    "\n",
    "numerics = ['int16', 'int32', 'int64', 'float16', 'float32', 'float64']\n",
    "numerical_vars = list(data.select_dtypes(include=numerics).columns)\n",
    "data = data[numerical_vars]\n",
    "data.shape\n",
    "\n",
    "# separate train and test sets\n",
    "X_train, X_test, y_train, y_test = train_test_split(\n",
    "    data.drop(labels=['SalePrice'], axis=1),\n",
    "    data['SalePrice'],\n",
    "    test_size=0.3,\n",
    "    random_state=0)\n",
    "\n",
    "X_train.shape, X_test.shape"
   ]
  },
  {
   "cell_type": "code",
   "execution_count": null,
   "metadata": {
    "colab": {
     "base_uri": "https://localhost:8080/"
    },
    "id": "t33_LO9r7-aL",
    "outputId": "7343c2c5-5e21-4120-8bf1-91a2f875cc41"
   },
   "outputs": [
    {
     "name": "stdout",
     "output_type": "stream",
     "text": [
      "total features: 37\n",
      "selected features: 33\n",
      "features with coefficients shrank to zero: 4\n"
     ]
    }
   ],
   "source": [
    "X_train = X_train.fillna(0)\n",
    "X_test = X_test.fillna(0)\n",
    "\n",
    "# the features in the house dataset are in different scales\n",
    "# so we train a scaler to scale them\n",
    "\n",
    "scaler = StandardScaler()\n",
    "scaler.fit(X_train)\n",
    "\n",
    "# here, again I will train a Lasso Linear regression and select\n",
    "# the non zero features in one line.\n",
    "\n",
    "# bear in mind that the linear regression object from sklearn does\n",
    "# not allow for regularisation. So If you want to make a regularised\n",
    "# linear regression you need to import specifically \"Lasso\"\n",
    "\n",
    "# alpha is the penalisation, so I set it high\n",
    "# to force the algorithm to shrink some coefficients\n",
    "\n",
    "sel_ = SelectFromModel(Lasso(alpha=100, random_state=10))\n",
    "sel_.fit(scaler.transform(X_train), y_train)\n",
    "\n",
    "sel_.get_support()\n",
    "\n",
    "# make a list with the selected features and print the outputs\n",
    "selected_feat = X_train.columns[(sel_.get_support())]\n",
    "\n",
    "print('total features: {}'.format((X_train.shape[1])))\n",
    "print('selected features: {}'.format(len(selected_feat)))\n",
    "print('features with coefficients shrank to zero: {}'.format(\n",
    "    np.sum(sel_.estimator_.coef_ == 0)))"
   ]
  },
  {
   "cell_type": "markdown",
   "metadata": {
    "id": "8Koy_gZt2aVS"
   },
   "source": [
    "## Trees"
   ]
  },
  {
   "cell_type": "code",
   "execution_count": null,
   "metadata": {
    "colab": {
     "base_uri": "https://localhost:8080/"
    },
    "id": "kvozvusIRCLr",
    "outputId": "cc3b52cd-89f7-4d17-aab3-863a9f35243a"
   },
   "outputs": [
    {
     "data": {
      "text/plain": [
       "((35000, 108), (15000, 108))"
      ]
     },
     "execution_count": 4,
     "metadata": {
      "tags": []
     },
     "output_type": "execute_result"
    }
   ],
   "source": [
    "# load dataset\n",
    "data = pd.read_csv('datasets/dataset_2.csv')\n",
    "data.shape\n",
    "\n",
    "# separate train and test sets\n",
    "X_train, X_test, y_train, y_test = train_test_split(\n",
    "    data.drop(labels=['target'], axis=1),\n",
    "    data['target'],\n",
    "    test_size=0.3,\n",
    "    random_state=0)\n",
    "\n",
    "X_train.shape, X_test.shape"
   ]
  },
  {
   "cell_type": "code",
   "execution_count": null,
   "metadata": {
    "colab": {
     "base_uri": "https://localhost:8080/",
     "height": 330
    },
    "id": "2-DF97xfYTGL",
    "outputId": "06fe1ce2-3430-4f11-bc44-86c20a36c763"
   },
   "outputs": [
    {
     "data": {
      "image/png": "[encoded data removed]",
      "text/plain": [
       "<Figure size 432x288 with 1 Axes>"
      ]
     },
     "metadata": {
      "needs_background": "light",
      "tags": []
     },
     "output_type": "display_data"
    },
    {
     "name": "stdout",
     "output_type": "stream",
     "text": [
      "total features: 108\n",
      "selected features: 37\n",
      "features with importance greater than the mean importance of all features: 37\n"
     ]
    }
   ],
   "source": [
    "from sklearn.ensemble import RandomForestClassifier, RandomForestRegressor\n",
    "from sklearn.feature_selection import SelectFromModel\n",
    "\n",
    "# we fit Random Forests and select features in 2 lines of code\n",
    "\n",
    "# first I specify the Random Forest instance and its parameters\n",
    "\n",
    "# Then I use the selectFromModel class from sklearn\n",
    "# to automatically select the features\n",
    "\n",
    "# SelectFrom model will select those features which importance\n",
    "# is greater than the mean importance of all the features\n",
    "# by default, but you can alter this threshold if you want to\n",
    "\n",
    "sel_ = SelectFromModel(RandomForestClassifier(n_estimators=3, random_state=10))\n",
    "\n",
    "sel_.fit(X_train, y_train)\n",
    "\n",
    "# this command let's me visualise those features that were selected.\n",
    "\n",
    "# sklearn will select those features which importance values\n",
    "# are greater than the mean of all the coefficients.\n",
    "sel_.get_support()\n",
    "\n",
    "# let's make a list and count the selected features\n",
    "selected_feat = X_train.columns[(sel_.get_support())]\n",
    "len(selected_feat)\n",
    "\n",
    "# and now let's plot the distribution of importances\n",
    "pd.Series(sel_.estimator_.feature_importances_.ravel()).hist(bins=20)\n",
    "plt.xlabel('Feature importance')\n",
    "plt.ylabel('Number of Features')\n",
    "plt.show()\n",
    "\n",
    "# and now, let's compare the  amount of selected features\n",
    "# with the amount of features which importance is above the\n",
    "# mean of all features, to make sure we understand the output of\n",
    "# SelectFromModel\n",
    "\n",
    "print('total features: {}'.format((X_train.shape[1])))\n",
    "\n",
    "print('selected features: {}'.format(len(selected_feat)))\n",
    "\n",
    "print(\n",
    "    'features with importance greater than the mean importance of all features: {}'.format(\n",
    "        np.sum(sel_.estimator_.feature_importances_ >\n",
    "               sel_.estimator_.feature_importances_.mean())))"
   ]
  },
  {
   "cell_type": "code",
   "execution_count": null,
   "metadata": {},
   "outputs": [],
   "source": [
    "# Recursively Feature Selection using Random Forest (takes a lot of time?)\n",
    "from sklearn.ensemble import RandomForestClassifier\n",
    "from sklearn.feature_selection import RFE\n",
    "from sklearn.metrics import roc_auc_score\n",
    "\n",
    "# we do model training and feature selection in 2 lines of code\n",
    "\n",
    "# first I specify the Random Forest and its parameters\n",
    "\n",
    "# Then RFE from sklearn to remove features recursively\n",
    "\n",
    "# RFE will remove one feature at each iteration => the least  important.\n",
    "# then it will build another random forest and repeat\n",
    "# till a criteria is met.\n",
    "\n",
    "# in sklearn the criteria to stop is an arbitrary number\n",
    "# of features to select, that we need to decide before hand\n",
    "# not the best solution, but a solution\n",
    "\n",
    "sel_ = RFE(RandomForestClassifier(n_estimators=10, random_state=10), n_features_to_select=3)\n",
    "sel_.fit(X_train, y_train)\n",
    "\n",
    "# selected features\n",
    "\n",
    "selected_feat = X_train.columns[(sel_.get_support())]\n",
    "len(selected_feat)\n",
    "\n",
    "# let's display the list of features\n",
    "selected_feat"
   ]
  },
  {
   "cell_type": "markdown",
   "metadata": {
    "id": "OHnz-xidvykv"
   },
   "source": [
    "# Hybrid Methods"
   ]
  },
  {
   "cell_type": "markdown",
   "metadata": {
    "id": "_ARMFdDMY3M4"
   },
   "source": [
    "## Feature Shuffling"
   ]
  },
  {
   "cell_type": "code",
   "execution_count": null,
   "metadata": {
    "colab": {
     "base_uri": "https://localhost:8080/"
    },
    "id": "p3MMxf7yZHCG",
    "outputId": "661f9eac-07f7-4cba-acb4-f96d442c7e2b"
   },
   "outputs": [
    {
     "data": {
      "text/plain": [
       "((35000, 108), (15000, 108))"
      ]
     },
     "execution_count": 8,
     "metadata": {
      "tags": []
     },
     "output_type": "execute_result"
    }
   ],
   "source": [
    "from feature_engine.selection import SelectByShuffling\n",
    "\n",
    "# load dataset\n",
    "data = pd.read_csv('datasets/dataset_2.csv')\n",
    "data.shape\n",
    "\n",
    "# separate train and test sets\n",
    "X_train, X_test, y_train, y_test = train_test_split(\n",
    "    data.drop(labels=['target'], axis=1),\n",
    "    data['target'],\n",
    "    test_size=0.3,\n",
    "    random_state=0)\n",
    "\n",
    "X_train.shape, X_test.shape\n",
    "\n",
    "# separate train and test sets\n",
    "X_train, X_test, y_train, y_test = train_test_split(\n",
    "    data.drop(labels=['target'], axis=1),\n",
    "    data['target'],\n",
    "    test_size=0.3,\n",
    "    random_state=0)\n",
    "\n",
    "X_train.shape, X_test.shape"
   ]
  },
  {
   "cell_type": "code",
   "execution_count": null,
   "metadata": {
    "colab": {
     "base_uri": "https://localhost:8080/",
     "height": 384
    },
    "id": "hOQOflv9ZPDx",
    "outputId": "8fcdffa4-2949-4d9f-f8e8-684fcbb0b1e2"
   },
   "outputs": [
    {
     "name": "stdout",
     "output_type": "stream",
     "text": [
      "train auc score:  0.7010001123593995\n",
      "test auc score:  0.6953477325844082\n"
     ]
    },
    {
     "data": {
      "image/png": "[encoded data removed]",
      "text/plain": [
       "<Figure size 1296x360 with 1 Axes>"
      ]
     },
     "metadata": {
      "needs_background": "light",
      "tags": []
     },
     "output_type": "display_data"
    }
   ],
   "source": [
    "# We will use Random Forests, but remember that \n",
    "# you can use this procedure with any machine learning algorithm\n",
    "\n",
    "rf = RandomForestClassifier(\n",
    "    n_estimators=50, max_depth=2, random_state=2909, n_jobs=4)\n",
    "\n",
    "sel = SelectByShuffling(\n",
    "    variables=None, # automatically examine all numerical variables\n",
    "    estimator=rf, # the ML model\n",
    "    scoring='roc_auc', # the metric to evaluate\n",
    "    threshold=0,# the maximum performance drop allowed to select the feature\n",
    "    cv=3, # cross validation\n",
    "    random_state=1 # seed\n",
    ")\n",
    "\n",
    "sel.fit(X_train, y_train)\n",
    "\n",
    "# performance of model trained with all features\n",
    "sel.initial_model_performance_\n",
    "\n",
    "# drop in performance caused by shuffling the feature\n",
    "sel.performance_drifts_\n",
    "\n",
    "# histogram of the performance drops\n",
    "pd.Series(sel.performance_drifts_).hist(bins=50)\n",
    "\n",
    "# bar plot of the performance drops\n",
    "pd.Series(sel.performance_drifts_).sort_values(ascending=False).plot.bar(figsize=(18,5))\n",
    "\n",
    "# features that will be removed\n",
    "len(sel.features_to_drop_)\n",
    "\n",
    "# remove features\n",
    "X_train = sel.transform(X_train)\n",
    "X_test = sel.transform(X_test)\n",
    "\n",
    "X_train.shape, X_test.shape\n",
    "\n",
    "# Now let's build a random forests only with the selected features\n",
    "\n",
    "rf.fit(X_train, y_train)\n",
    "\n",
    "# print roc-auc in train and testing sets\n",
    "print(\n",
    "    'train auc score: ',\n",
    "    roc_auc_score(y_train, (rf.predict_proba(X_train))[:,1]))\n",
    "print(\n",
    "    'test auc score: ',\n",
    "    roc_auc_score(y_test, (rf.predict_proba(X_test))[:, 1]))"
   ]
  },
  {
   "cell_type": "markdown",
   "metadata": {
    "id": "MlxS-4x8Y7eX"
   },
   "source": [
    "## Recursive Feature Elimination"
   ]
  },
  {
   "cell_type": "code",
   "execution_count": null,
   "metadata": {
    "colab": {
     "base_uri": "https://localhost:8080/"
    },
    "id": "NNiln4xMaMBQ",
    "outputId": "3e37f5fd-b823-4e16-b462-508ba004fbb9"
   },
   "outputs": [
    {
     "data": {
      "text/plain": [
       "((35000, 300), (15000, 300))"
      ]
     },
     "execution_count": 10,
     "metadata": {
      "tags": []
     },
     "output_type": "execute_result"
    }
   ],
   "source": [
    "# load dataset\n",
    "data = pd.read_csv('datasets/dataset_1.csv')\n",
    "data.shape\n",
    "\n",
    "# separate train and test sets\n",
    "X_train, X_test, y_train, y_test = train_test_split(\n",
    "    data.drop(labels=['target'], axis=1),\n",
    "    data['target'],\n",
    "    test_size=0.3,\n",
    "    random_state=0)\n",
    "\n",
    "X_train.shape, X_test.shape"
   ]
  },
  {
   "cell_type": "code",
   "execution_count": null,
   "metadata": {
    "colab": {
     "base_uri": "https://localhost:8080/",
     "height": 416
    },
    "id": "Rv4U_tfCaQdF",
    "outputId": "3003b1d4-4fa5-494f-9a69-c0e5fe63c92b"
   },
   "outputs": [
    {
     "data": {
      "image/png": "[encoded data removed]",
      "text/plain": [
       "<Figure size 1440x432 with 1 Axes>"
      ]
     },
     "metadata": {
      "needs_background": "light",
      "tags": []
     },
     "output_type": "display_data"
    },
    {
     "data": {
      "text/plain": [
       "((35000, 5), (15000, 5))"
      ]
     },
     "execution_count": 14,
     "metadata": {
      "tags": []
     },
     "output_type": "execute_result"
    }
   ],
   "source": [
    "from sklearn.ensemble import GradientBoostingClassifier, GradientBoostingRegressor\n",
    "from sklearn.metrics import roc_auc_score, r2_score\n",
    "from sklearn.pipeline import Pipeline\n",
    "\n",
    "from feature_engine.selection import (\n",
    "    RecursiveFeatureElimination,\n",
    "    DropConstantFeatures,\n",
    "    DropDuplicateFeatures,\n",
    ")\n",
    "\n",
    "pipe = Pipeline([\n",
    "    ('constant', DropConstantFeatures(tol=0.998)),\n",
    "    ('duplicated', DropDuplicateFeatures()),\n",
    "])\n",
    "\n",
    "pipe.fit(X_train)\n",
    "\n",
    "# remove features\n",
    "\n",
    "X_train = pipe.transform(X_train)\n",
    "X_test = pipe.transform(X_test)\n",
    "\n",
    "X_train.shape, X_test.shape\n",
    "\n",
    "# the ML model for which we want to select features\n",
    "model = GradientBoostingClassifier(\n",
    "    n_estimators=10,\n",
    "    max_depth=2,\n",
    "    random_state=10,\n",
    ")\n",
    "\n",
    "# Setup the RFE selector\n",
    "sel = RecursiveFeatureElimination(\n",
    "    variables=None, # automatically evaluate all numerical variables\n",
    "    estimator = model, # the ML model\n",
    "    scoring = 'roc_auc', # the metric we want to evalute\n",
    "    threshold = 0.0005, # the maximum performance drop allowed to remove a feature\n",
    "    cv=2, # cross-validation\n",
    ")\n",
    "\n",
    "# this may take quite a while, because\n",
    "# we are building a lot of models with cross-validation\n",
    "sel.fit(X_train, y_train)\n",
    "\n",
    "# performance of model trained using all features\n",
    "sel.initial_model_performance_\n",
    "\n",
    "# importance of all features based of initial model\n",
    "sel.feature_importances_.plot.bar(figsize=(20,6))\n",
    "plt.xlabel('Features')\n",
    "plt.ylabel('Importance')\n",
    "plt.show()\n",
    "\n",
    "# Number of features that will be removed\n",
    "len(sel.features_to_drop_)\n",
    "\n",
    "# select features\n",
    "X_train = sel.transform(X_train)\n",
    "X_test = sel.transform(X_test)\n",
    "\n",
    "X_train.shape, X_test.shape"
   ]
  },
  {
   "cell_type": "markdown",
   "metadata": {
    "id": "GXMwcDViZA-2"
   },
   "source": [
    "## Recursive Feature Addition"
   ]
  },
  {
   "cell_type": "code",
   "execution_count": null,
   "metadata": {
    "colab": {
     "base_uri": "https://localhost:8080/"
    },
    "id": "Ggl0qlZSbR2B",
    "outputId": "7ed67d99-88f5-41f6-9cf8-8cd87c5b028a"
   },
   "outputs": [
    {
     "data": {
      "text/plain": [
       "((35000, 300), (15000, 300))"
      ]
     },
     "execution_count": 15,
     "metadata": {
      "tags": []
     },
     "output_type": "execute_result"
    }
   ],
   "source": [
    "# load dataset\n",
    "data = pd.read_csv('datasets/dataset_1.csv')\n",
    "data.shape\n",
    "\n",
    "# separate train and test sets\n",
    "X_train, X_test, y_train, y_test = train_test_split(\n",
    "    data.drop(labels=['target'], axis=1),\n",
    "    data['target'],\n",
    "    test_size=0.3,\n",
    "    random_state=0)\n",
    "\n",
    "X_train.shape, X_test.shape"
   ]
  },
  {
   "cell_type": "code",
   "execution_count": null,
   "metadata": {
    "colab": {
     "base_uri": "https://localhost:8080/",
     "height": 416
    },
    "id": "OzSZmFBMbLDi",
    "outputId": "626f5c55-4254-4d53-975b-b686f8f0f756"
   },
   "outputs": [
    {
     "data": {
      "image/png": "[encoded data removed]",
      "text/plain": [
       "<Figure size 1440x432 with 1 Axes>"
      ]
     },
     "metadata": {
      "needs_background": "light",
      "tags": []
     },
     "output_type": "display_data"
    },
    {
     "name": "stdout",
     "output_type": "stream",
     "text": [
      "Test selected features ROC AUC=0.802329\n"
     ]
    }
   ],
   "source": [
    "from sklearn.ensemble import GradientBoostingClassifier, GradientBoostingRegressor\n",
    "from sklearn.metrics import roc_auc_score, r2_score\n",
    "from sklearn.pipeline import Pipeline\n",
    "\n",
    "from feature_engine.selection import (\n",
    "    RecursiveFeatureAddition,\n",
    "    DropConstantFeatures,\n",
    "    DropDuplicateFeatures,\n",
    ")\n",
    "\n",
    "# remove constant, quasi-constant and duplicated\n",
    "# to speed things up\n",
    "\n",
    "pipe = Pipeline([\n",
    "    ('constant', DropConstantFeatures(tol=0.998)),\n",
    "    ('duplicated', DropDuplicateFeatures()),\n",
    "])\n",
    "\n",
    "pipe.fit(X_train)\n",
    "\n",
    "# remove features\n",
    "\n",
    "X_train = pipe.transform(X_train)\n",
    "X_test = pipe.transform(X_test)\n",
    "\n",
    "X_train.shape, X_test.shape\n",
    "\n",
    "# the ML model for which we want to select features\n",
    "model = GradientBoostingClassifier(\n",
    "    n_estimators=10,\n",
    "    max_depth=2,\n",
    "    random_state=10,\n",
    ")\n",
    "\n",
    "# Setup the RFA selector\n",
    "rfa = RecursiveFeatureAddition(\n",
    "    variables=None,  # automatically evaluate all numerical variables\n",
    "    estimator=model,  # the ML model\n",
    "    scoring='roc_auc',  # the metric we want to evalute\n",
    "    threshold=0.0001,  # the minimum performance increase needed to select a feature\n",
    "    cv=2,  # cross-validation\n",
    ")\n",
    "\n",
    "rfa.fit(X_train, y_train)\n",
    "\n",
    "# performance of model trained using all features\n",
    "rfa.initial_model_performance_\n",
    "\n",
    "# importance of all features based of initial model\n",
    "rfa.feature_importances_.plot.bar(figsize=(20,6))\n",
    "plt.xlabel('Features')\n",
    "plt.ylabel('Importance')\n",
    "plt.show()\n",
    "\n",
    "# Number of features that will be removed\n",
    "len(rfa.features_to_drop_)\n",
    "\n",
    "# select features\n",
    "X_train = rfa.transform(X_train)\n",
    "X_test = rfa.transform(X_test)\n",
    "\n",
    "# now for comparison, we build a model with the selected features only\n",
    "\n",
    "model_final = GradientBoostingClassifier(\n",
    "    n_estimators=10, max_depth=2, random_state=10)\n",
    "\n",
    "# fit the model with the selected features\n",
    "model_final.fit(X_train, y_train)\n",
    "\n",
    "# make predictions\n",
    "y_pred_test = model_final.predict_proba(X_test)[:, 1]\n",
    "\n",
    "# calculate roc-auc\n",
    "roc_final = roc_auc_score(y_test, y_pred_test)\n",
    "print('Test selected features ROC AUC=%f' % (roc_final))"
   ]
  }
 ],
 "metadata": {
  "colab": {
   "collapsed_sections": [
    "d3traVT4eynk",
    "LV9EHudWe4eU",
    "nT5FH7Dne_27",
    "ZITUA5H8fDiO",
    "X2cT-KtFfFP4",
    "Bw6ATrjVrw1Z",
    "KSNap7Wm2Vza"
   ],
   "name": "feature_selection",
   "provenance": [],
   "toc_visible": true
  },
  "kernelspec": {
   "display_name": "Python 3",
   "language": "python",
   "name": "python3"
  },
  "language_info": {
   "codemirror_mode": {
    "name": "ipython",
    "version": 3
   },
   "file_extension": ".py",
   "mimetype": "text/x-python",
   "name": "python",
   "nbconvert_exporter": "python",
   "pygments_lexer": "ipython3",
   "version": "3.7.6"
  }
 },
 "nbformat": 4,
 "nbformat_minor": 1
}
